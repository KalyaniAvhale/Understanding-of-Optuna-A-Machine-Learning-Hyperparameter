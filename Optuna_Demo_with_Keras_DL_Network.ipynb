{
  "nbformat": 4,
  "nbformat_minor": 0,
  "metadata": {
    "colab": {
      "name": "Optuna_Demo_with_Keras_DL Network.ipynb",
      "provenance": [],
      "collapsed_sections": []
    },
    "kernelspec": {
      "name": "python3",
      "display_name": "Python 3"
    },
    "language_info": {
      "name": "python"
    }
  },
  "cells": [
    {
      "cell_type": "code",
      "metadata": {
        "id": "SME9bw7M8jzw"
      },
      "source": [
        "!pip install optuna -q"
      ],
      "execution_count": 1,
      "outputs": []
    },
    {
      "cell_type": "markdown",
      "metadata": {
        "id": "Jg_oKjhF8-Nm"
      },
      "source": [
        "Optuna example that demonstrates a pruner for Keras.\n",
        "In this example, we optimize the validation accuracy of hand-written digit recognition using\n",
        "Keras and MNIST, where the architecture of the neural network and the learning rate of optimizer\n",
        "is optimized. Throughout the training of neural networks, a pruner observes intermediate\n",
        "results and stops unpromising trials.\n"
      ]
    },
    {
      "cell_type": "code",
      "metadata": {
        "id": "kadPnYsM8lzf"
      },
      "source": [
        "import optuna\n",
        "from optuna.integration import KerasPruningCallback\n",
        "from optuna.trial import TrialState\n",
        "\n",
        "from tensorflow import keras\n",
        "from keras.datasets import mnist\n",
        "from keras.layers import Dense\n",
        "from keras.layers import Dropout\n",
        "from keras.models import Sequential"
      ],
      "execution_count": 2,
      "outputs": []
    },
    {
      "cell_type": "code",
      "metadata": {
        "id": "_o49RBO79De1"
      },
      "source": [
        "N_TRAIN_EXAMPLES = 3000\n",
        "N_VALID_EXAMPLES = 1000\n",
        "BATCHSIZE = 64\n",
        "CLASSES = 10\n",
        "EPOCHS = 20\n"
      ],
      "execution_count": 3,
      "outputs": []
    },
    {
      "cell_type": "code",
      "metadata": {
        "id": "UZBEdiXO9Gss"
      },
      "source": [
        "def create_model(trial):\n",
        "    # We optimize the number of layers, hidden units and dropout in each layer and\n",
        "    # the learning rate of RMSProp optimizer.\n",
        "\n",
        "    # We define our MLP.\n",
        "    n_layers = trial.suggest_int(\"n_layers\", 1, 5)\n",
        "    model = Sequential()\n",
        "    for i in range(n_layers):\n",
        "        num_hidden = trial.suggest_int(\"n_units_l{}\".format(i), 4, 128, log=True)\n",
        "        model.add(Dense(num_hidden, activation=\"relu\"))\n",
        "        dropout = trial.suggest_float(\"dropout_l{}\".format(i), 0.2, 0.5)\n",
        "        model.add(Dropout(rate=dropout))\n",
        "    model.add(Dense(CLASSES, activation=\"softmax\"))\n",
        "\n",
        "    # We compile our model with a sampled learning rate.\n",
        "    lr = trial.suggest_float(\"learning_rate\", 1e-5, 1e-1, log=True)\n",
        "    model.compile(\n",
        "        loss=\"categorical_crossentropy\",\n",
        "        optimizer=keras.optimizers.RMSprop(learning_rate=lr),\n",
        "        metrics=[\"accuracy\"],\n",
        "    )\n",
        "\n",
        "    return model"
      ],
      "execution_count": 4,
      "outputs": []
    },
    {
      "cell_type": "code",
      "metadata": {
        "id": "Au1_alIsrQch"
      },
      "source": [
        "def objective(trial):\n",
        "    # Clear clutter from previous session graphs.\n",
        "    keras.backend.clear_session()\n",
        "\n",
        "    # The data is split between train and validation sets.\n",
        "    (x_train, y_train), (x_valid, y_valid) = mnist.load_data()\n",
        "    x_train = x_train.reshape(60000, 784)[:N_TRAIN_EXAMPLES].astype(\"float32\") / 255\n",
        "    x_valid = x_valid.reshape(10000, 784)[:N_VALID_EXAMPLES].astype(\"float32\") / 255\n",
        "\n",
        "    # Convert class vectors to binary class matrices.\n",
        "    y_train = keras.utils.to_categorical(y_train[:N_TRAIN_EXAMPLES], CLASSES)\n",
        "    y_valid = keras.utils.to_categorical(y_valid[:N_VALID_EXAMPLES], CLASSES)\n",
        "\n",
        "    # Generate our trial model.\n",
        "    model = create_model(trial)\n",
        "\n",
        "    # Fit the model on the training data.\n",
        "    # The KerasPruningCallback checks for pruning condition every epoch.\n",
        "    model.fit(\n",
        "        x_train,\n",
        "        y_train,\n",
        "        batch_size=BATCHSIZE,\n",
        "        callbacks=[KerasPruningCallback(trial, \"val_accuracy\")],\n",
        "        epochs=EPOCHS,\n",
        "        validation_data=(x_valid, y_valid),\n",
        "        verbose=1,\n",
        "    )\n",
        "\n",
        "    # Evaluate the model accuracy on the validation set.\n",
        "    score = model.evaluate(x_valid, y_valid, verbose=1)\n",
        "    return score[1]"
      ],
      "execution_count": 5,
      "outputs": []
    },
    {
      "cell_type": "code",
      "metadata": {
        "colab": {
          "base_uri": "https://localhost:8080/"
        },
        "id": "CWjb3-2291sh",
        "outputId": "2733115d-99bf-46a0-e59b-d1078a00fb32"
      },
      "source": [
        "study = optuna.create_study(direction=\"maximize\", pruner=optuna.pruners.MedianPruner())\n",
        "study.optimize(objective, n_trials=15)\n",
        "\n",
        "pruned_trials = study.get_trials(deepcopy=False, states=[TrialState.PRUNED])\n",
        "complete_trials = study.get_trials(deepcopy=False, states=[TrialState.COMPLETE])\n",
        "\n",
        "\n"
      ],
      "execution_count": 6,
      "outputs": [
        {
          "output_type": "stream",
          "text": [
            "\u001b[32m[I 2021-08-25 06:31:33,863]\u001b[0m A new study created in memory with name: no-name-9d1b87b7-1f73-4b9a-b11f-940dc0f6be80\u001b[0m\n",
            "/usr/local/lib/python3.7/dist-packages/ipykernel_launcher.py:23: FutureWarning:\n",
            "\n",
            "KerasPruningCallback has been deprecated in v2.1.0. This feature will be removed in v4.0.0. See https://github.com/optuna/optuna/releases/tag/v2.1.0. Recent Keras release (2.4.0) simply redirects all APIs in the standalone keras package to point to tf.keras. There is now only one Keras: tf.keras. There may be some breaking changes for some workflows by upgrading to keras 2.4.0. Test before upgrading. REF:https://github.com/keras-team/keras/releases/tag/2.4.0\n",
            "\n"
          ],
          "name": "stderr"
        },
        {
          "output_type": "stream",
          "text": [
            "Epoch 1/20\n",
            "47/47 [==============================] - 1s 6ms/step - loss: 2.2279 - accuracy: 0.2743 - val_loss: 1.6806 - val_accuracy: 0.3900\n",
            "Epoch 2/20\n",
            "47/47 [==============================] - 0s 2ms/step - loss: 1.7693 - accuracy: 0.3523 - val_loss: 1.4119 - val_accuracy: 0.4600\n",
            "Epoch 3/20\n",
            "47/47 [==============================] - 0s 3ms/step - loss: 1.5507 - accuracy: 0.4377 - val_loss: 1.3017 - val_accuracy: 0.5310\n",
            "Epoch 4/20\n",
            "47/47 [==============================] - 0s 2ms/step - loss: 1.4691 - accuracy: 0.4507 - val_loss: 1.2574 - val_accuracy: 0.6000\n",
            "Epoch 5/20\n",
            "47/47 [==============================] - 0s 2ms/step - loss: 1.4394 - accuracy: 0.4480 - val_loss: 1.2672 - val_accuracy: 0.5400\n",
            "Epoch 6/20\n",
            "47/47 [==============================] - 0s 2ms/step - loss: 1.4496 - accuracy: 0.4660 - val_loss: 1.3229 - val_accuracy: 0.5240\n",
            "Epoch 7/20\n",
            "47/47 [==============================] - 0s 2ms/step - loss: 1.4728 - accuracy: 0.4457 - val_loss: 1.2194 - val_accuracy: 0.6160\n",
            "Epoch 8/20\n",
            "47/47 [==============================] - 0s 2ms/step - loss: 1.4326 - accuracy: 0.4587 - val_loss: 1.2677 - val_accuracy: 0.5190\n",
            "Epoch 9/20\n",
            "47/47 [==============================] - 0s 2ms/step - loss: 1.4277 - accuracy: 0.4573 - val_loss: 1.2146 - val_accuracy: 0.6410\n",
            "Epoch 10/20\n",
            "47/47 [==============================] - 0s 2ms/step - loss: 1.4446 - accuracy: 0.4720 - val_loss: 1.1717 - val_accuracy: 0.6460\n",
            "Epoch 11/20\n",
            "47/47 [==============================] - 0s 2ms/step - loss: 1.4157 - accuracy: 0.4810 - val_loss: 1.1973 - val_accuracy: 0.6600\n",
            "Epoch 12/20\n",
            "47/47 [==============================] - 0s 2ms/step - loss: 1.3801 - accuracy: 0.4880 - val_loss: 1.0644 - val_accuracy: 0.6380\n",
            "Epoch 13/20\n",
            "47/47 [==============================] - 0s 2ms/step - loss: 1.4283 - accuracy: 0.4727 - val_loss: 1.1586 - val_accuracy: 0.6380\n",
            "Epoch 14/20\n",
            "47/47 [==============================] - 0s 2ms/step - loss: 1.3560 - accuracy: 0.4893 - val_loss: 1.2852 - val_accuracy: 0.6060\n",
            "Epoch 15/20\n",
            "47/47 [==============================] - 0s 2ms/step - loss: 1.4129 - accuracy: 0.4660 - val_loss: 1.1621 - val_accuracy: 0.6680\n",
            "Epoch 16/20\n",
            "47/47 [==============================] - 0s 2ms/step - loss: 1.3858 - accuracy: 0.4947 - val_loss: 1.3004 - val_accuracy: 0.6370\n",
            "Epoch 17/20\n",
            "47/47 [==============================] - 0s 2ms/step - loss: 1.3792 - accuracy: 0.4933 - val_loss: 1.1610 - val_accuracy: 0.6710\n",
            "Epoch 18/20\n",
            "47/47 [==============================] - 0s 2ms/step - loss: 1.3480 - accuracy: 0.4970 - val_loss: 1.6204 - val_accuracy: 0.5870\n",
            "Epoch 19/20\n",
            "47/47 [==============================] - 0s 2ms/step - loss: 1.3713 - accuracy: 0.4883 - val_loss: 1.2716 - val_accuracy: 0.6500\n",
            "Epoch 20/20\n",
            "47/47 [==============================] - 0s 2ms/step - loss: 1.4017 - accuracy: 0.4863 - val_loss: 1.3699 - val_accuracy: 0.6250\n",
            "32/32 [==============================] - 0s 1ms/step - loss: 1.3699 - accuracy: 0.6250\n"
          ],
          "name": "stdout"
        },
        {
          "output_type": "stream",
          "text": [
            "\u001b[32m[I 2021-08-25 06:31:37,596]\u001b[0m Trial 0 finished with value: 0.625 and parameters: {'n_layers': 1, 'n_units_l0': 12, 'dropout_l0': 0.36240951209791317, 'learning_rate': 0.04232331604266482}. Best is trial 0 with value: 0.625.\u001b[0m\n",
            "/usr/local/lib/python3.7/dist-packages/ipykernel_launcher.py:23: FutureWarning:\n",
            "\n",
            "KerasPruningCallback has been deprecated in v2.1.0. This feature will be removed in v4.0.0. See https://github.com/optuna/optuna/releases/tag/v2.1.0. Recent Keras release (2.4.0) simply redirects all APIs in the standalone keras package to point to tf.keras. There is now only one Keras: tf.keras. There may be some breaking changes for some workflows by upgrading to keras 2.4.0. Test before upgrading. REF:https://github.com/keras-team/keras/releases/tag/2.4.0\n",
            "\n"
          ],
          "name": "stderr"
        },
        {
          "output_type": "stream",
          "text": [
            "Epoch 1/20\n",
            "47/47 [==============================] - 1s 6ms/step - loss: 2.3240 - accuracy: 0.0947 - val_loss: 2.2966 - val_accuracy: 0.1290\n",
            "Epoch 2/20\n",
            "47/47 [==============================] - 0s 3ms/step - loss: 2.3007 - accuracy: 0.1160 - val_loss: 2.2878 - val_accuracy: 0.1790\n",
            "Epoch 3/20\n",
            "47/47 [==============================] - 0s 3ms/step - loss: 2.2849 - accuracy: 0.1200 - val_loss: 2.2755 - val_accuracy: 0.2060\n",
            "Epoch 4/20\n",
            "47/47 [==============================] - 0s 3ms/step - loss: 2.2770 - accuracy: 0.1323 - val_loss: 2.2608 - val_accuracy: 0.2150\n",
            "Epoch 5/20\n",
            "47/47 [==============================] - 0s 3ms/step - loss: 2.2626 - accuracy: 0.1373 - val_loss: 2.2398 - val_accuracy: 0.2660\n",
            "Epoch 6/20\n",
            "47/47 [==============================] - 0s 3ms/step - loss: 2.2464 - accuracy: 0.1500 - val_loss: 2.2209 - val_accuracy: 0.3110\n",
            "Epoch 7/20\n",
            "47/47 [==============================] - 0s 3ms/step - loss: 2.2294 - accuracy: 0.1637 - val_loss: 2.1980 - val_accuracy: 0.3500\n",
            "Epoch 8/20\n",
            "47/47 [==============================] - 0s 3ms/step - loss: 2.2043 - accuracy: 0.1810 - val_loss: 2.1758 - val_accuracy: 0.3810\n",
            "Epoch 9/20\n",
            "47/47 [==============================] - 0s 3ms/step - loss: 2.1859 - accuracy: 0.1903 - val_loss: 2.1443 - val_accuracy: 0.3940\n",
            "Epoch 10/20\n",
            "47/47 [==============================] - 0s 3ms/step - loss: 2.1676 - accuracy: 0.1947 - val_loss: 2.1204 - val_accuracy: 0.4080\n",
            "Epoch 11/20\n",
            "47/47 [==============================] - 0s 3ms/step - loss: 2.1587 - accuracy: 0.2113 - val_loss: 2.0978 - val_accuracy: 0.4330\n",
            "Epoch 12/20\n",
            "47/47 [==============================] - 0s 3ms/step - loss: 2.1359 - accuracy: 0.2280 - val_loss: 2.0713 - val_accuracy: 0.4370\n",
            "Epoch 13/20\n",
            "47/47 [==============================] - 0s 3ms/step - loss: 2.1042 - accuracy: 0.2390 - val_loss: 2.0391 - val_accuracy: 0.4450\n",
            "Epoch 14/20\n",
            "47/47 [==============================] - 0s 3ms/step - loss: 2.0930 - accuracy: 0.2337 - val_loss: 2.0147 - val_accuracy: 0.4620\n",
            "Epoch 15/20\n",
            "47/47 [==============================] - 0s 3ms/step - loss: 2.0705 - accuracy: 0.2530 - val_loss: 1.9889 - val_accuracy: 0.4740\n",
            "Epoch 16/20\n",
            "47/47 [==============================] - 0s 3ms/step - loss: 2.0489 - accuracy: 0.2607 - val_loss: 1.9573 - val_accuracy: 0.4680\n",
            "Epoch 17/20\n",
            "47/47 [==============================] - 0s 3ms/step - loss: 2.0274 - accuracy: 0.2720 - val_loss: 1.9346 - val_accuracy: 0.4880\n",
            "Epoch 18/20\n",
            "47/47 [==============================] - 0s 3ms/step - loss: 2.0203 - accuracy: 0.2737 - val_loss: 1.9088 - val_accuracy: 0.4980\n",
            "Epoch 19/20\n",
            "47/47 [==============================] - 0s 3ms/step - loss: 2.0079 - accuracy: 0.2707 - val_loss: 1.8919 - val_accuracy: 0.5010\n",
            "Epoch 20/20\n",
            "47/47 [==============================] - 0s 3ms/step - loss: 1.9923 - accuracy: 0.2847 - val_loss: 1.8728 - val_accuracy: 0.5030\n",
            "32/32 [==============================] - 0s 1ms/step - loss: 1.8728 - accuracy: 0.5030\n"
          ],
          "name": "stdout"
        },
        {
          "output_type": "stream",
          "text": [
            "\u001b[32m[I 2021-08-25 06:31:41,622]\u001b[0m Trial 1 finished with value: 0.503000020980835 and parameters: {'n_layers': 4, 'n_units_l0': 23, 'dropout_l0': 0.24011347155728746, 'n_units_l1': 24, 'dropout_l1': 0.4435396301097096, 'n_units_l2': 18, 'dropout_l2': 0.3084350845830808, 'n_units_l3': 10, 'dropout_l3': 0.2389261391581259, 'learning_rate': 0.0001658588129720693}. Best is trial 0 with value: 0.625.\u001b[0m\n",
            "/usr/local/lib/python3.7/dist-packages/ipykernel_launcher.py:23: FutureWarning:\n",
            "\n",
            "KerasPruningCallback has been deprecated in v2.1.0. This feature will be removed in v4.0.0. See https://github.com/optuna/optuna/releases/tag/v2.1.0. Recent Keras release (2.4.0) simply redirects all APIs in the standalone keras package to point to tf.keras. There is now only one Keras: tf.keras. There may be some breaking changes for some workflows by upgrading to keras 2.4.0. Test before upgrading. REF:https://github.com/keras-team/keras/releases/tag/2.4.0\n",
            "\n"
          ],
          "name": "stderr"
        },
        {
          "output_type": "stream",
          "text": [
            "Epoch 1/20\n",
            "47/47 [==============================] - 1s 5ms/step - loss: 2.2150 - accuracy: 0.1413 - val_loss: 2.0718 - val_accuracy: 0.3130\n",
            "Epoch 2/20\n",
            "47/47 [==============================] - 0s 2ms/step - loss: 2.1119 - accuracy: 0.2050 - val_loss: 1.9485 - val_accuracy: 0.4650\n",
            "Epoch 3/20\n",
            "47/47 [==============================] - 0s 2ms/step - loss: 2.0943 - accuracy: 0.2090 - val_loss: 1.9013 - val_accuracy: 0.4530\n",
            "Epoch 4/20\n",
            "47/47 [==============================] - 0s 2ms/step - loss: 2.0557 - accuracy: 0.2270 - val_loss: 1.8024 - val_accuracy: 0.4790\n",
            "Epoch 5/20\n",
            "47/47 [==============================] - 0s 2ms/step - loss: 2.0514 - accuracy: 0.2150 - val_loss: 1.7695 - val_accuracy: 0.4740\n",
            "Epoch 6/20\n",
            "47/47 [==============================] - 0s 3ms/step - loss: 2.0313 - accuracy: 0.2247 - val_loss: 1.7245 - val_accuracy: 0.4350\n",
            "Epoch 7/20\n",
            "47/47 [==============================] - 0s 2ms/step - loss: 2.0179 - accuracy: 0.2310 - val_loss: 1.7141 - val_accuracy: 0.4320\n",
            "Epoch 8/20\n",
            "47/47 [==============================] - 0s 2ms/step - loss: 2.0209 - accuracy: 0.2273 - val_loss: 1.7224 - val_accuracy: 0.4800\n",
            "Epoch 9/20\n",
            "47/47 [==============================] - 0s 2ms/step - loss: 1.9946 - accuracy: 0.2357 - val_loss: 1.6872 - val_accuracy: 0.4770\n",
            "Epoch 10/20\n",
            "47/47 [==============================] - 0s 2ms/step - loss: 1.9567 - accuracy: 0.2490 - val_loss: 1.6103 - val_accuracy: 0.4890\n",
            "Epoch 11/20\n",
            "47/47 [==============================] - 0s 2ms/step - loss: 1.9846 - accuracy: 0.2367 - val_loss: 1.6725 - val_accuracy: 0.4410\n",
            "Epoch 12/20\n",
            "47/47 [==============================] - 0s 2ms/step - loss: 1.9870 - accuracy: 0.2453 - val_loss: 1.6231 - val_accuracy: 0.4880\n",
            "Epoch 13/20\n",
            "47/47 [==============================] - 0s 2ms/step - loss: 1.9660 - accuracy: 0.2453 - val_loss: 1.6606 - val_accuracy: 0.4340\n",
            "Epoch 14/20\n",
            "47/47 [==============================] - 0s 2ms/step - loss: 1.9536 - accuracy: 0.2473 - val_loss: 1.6673 - val_accuracy: 0.4360\n",
            "Epoch 15/20\n",
            "47/47 [==============================] - 0s 2ms/step - loss: 1.9443 - accuracy: 0.2553 - val_loss: 1.5316 - val_accuracy: 0.4880\n",
            "Epoch 16/20\n",
            "47/47 [==============================] - 0s 2ms/step - loss: 1.9490 - accuracy: 0.2537 - val_loss: 1.5382 - val_accuracy: 0.4960\n",
            "Epoch 17/20\n",
            "47/47 [==============================] - 0s 2ms/step - loss: 1.9362 - accuracy: 0.2560 - val_loss: 1.5106 - val_accuracy: 0.5010\n",
            "Epoch 18/20\n",
            "47/47 [==============================] - 0s 3ms/step - loss: 1.9482 - accuracy: 0.2500 - val_loss: 1.5611 - val_accuracy: 0.4940\n",
            "Epoch 19/20\n",
            "47/47 [==============================] - 0s 2ms/step - loss: 1.9375 - accuracy: 0.2623 - val_loss: 1.5587 - val_accuracy: 0.4980\n",
            "Epoch 20/20\n",
            "47/47 [==============================] - 0s 3ms/step - loss: 1.9448 - accuracy: 0.2513 - val_loss: 1.5574 - val_accuracy: 0.5120\n",
            "32/32 [==============================] - 0s 1ms/step - loss: 1.5574 - accuracy: 0.5120\n"
          ],
          "name": "stdout"
        },
        {
          "output_type": "stream",
          "text": [
            "\u001b[32m[I 2021-08-25 06:31:45,285]\u001b[0m Trial 2 finished with value: 0.5120000243186951 and parameters: {'n_layers': 3, 'n_units_l0': 8, 'dropout_l0': 0.4229473858654087, 'n_units_l1': 5, 'dropout_l1': 0.22991187912055755, 'n_units_l2': 4, 'dropout_l2': 0.47316646820151875, 'learning_rate': 0.005283566645130581}. Best is trial 0 with value: 0.625.\u001b[0m\n",
            "/usr/local/lib/python3.7/dist-packages/ipykernel_launcher.py:23: FutureWarning:\n",
            "\n",
            "KerasPruningCallback has been deprecated in v2.1.0. This feature will be removed in v4.0.0. See https://github.com/optuna/optuna/releases/tag/v2.1.0. Recent Keras release (2.4.0) simply redirects all APIs in the standalone keras package to point to tf.keras. There is now only one Keras: tf.keras. There may be some breaking changes for some workflows by upgrading to keras 2.4.0. Test before upgrading. REF:https://github.com/keras-team/keras/releases/tag/2.4.0\n",
            "\n"
          ],
          "name": "stderr"
        },
        {
          "output_type": "stream",
          "text": [
            "Epoch 1/20\n",
            "47/47 [==============================] - 1s 5ms/step - loss: 2.3011 - accuracy: 0.1000 - val_loss: 2.2694 - val_accuracy: 0.1270\n",
            "Epoch 2/20\n",
            "47/47 [==============================] - 0s 2ms/step - loss: 2.2667 - accuracy: 0.1253 - val_loss: 2.2449 - val_accuracy: 0.1820\n",
            "Epoch 3/20\n",
            "47/47 [==============================] - 0s 2ms/step - loss: 2.2418 - accuracy: 0.1447 - val_loss: 2.2150 - val_accuracy: 0.2490\n",
            "Epoch 4/20\n",
            "47/47 [==============================] - 0s 2ms/step - loss: 2.2117 - accuracy: 0.1640 - val_loss: 2.1797 - val_accuracy: 0.3460\n",
            "Epoch 5/20\n",
            "47/47 [==============================] - 0s 3ms/step - loss: 2.1788 - accuracy: 0.2083 - val_loss: 2.1431 - val_accuracy: 0.3950\n",
            "Epoch 6/20\n",
            "47/47 [==============================] - 0s 2ms/step - loss: 2.1426 - accuracy: 0.2160 - val_loss: 2.1042 - val_accuracy: 0.4360\n",
            "Epoch 7/20\n",
            "47/47 [==============================] - 0s 2ms/step - loss: 2.1021 - accuracy: 0.2293 - val_loss: 2.0599 - val_accuracy: 0.4580\n",
            "Epoch 8/20\n",
            "47/47 [==============================] - 0s 3ms/step - loss: 2.0756 - accuracy: 0.2473 - val_loss: 2.0184 - val_accuracy: 0.4850\n",
            "Epoch 9/20\n",
            "47/47 [==============================] - 0s 2ms/step - loss: 2.0364 - accuracy: 0.2643 - val_loss: 1.9799 - val_accuracy: 0.5010\n",
            "Epoch 10/20\n",
            "47/47 [==============================] - 0s 2ms/step - loss: 2.0255 - accuracy: 0.2697 - val_loss: 1.9480 - val_accuracy: 0.5250\n",
            "Epoch 11/20\n",
            "47/47 [==============================] - 0s 2ms/step - loss: 1.9870 - accuracy: 0.2890 - val_loss: 1.9129 - val_accuracy: 0.5400\n",
            "Epoch 12/20\n",
            "47/47 [==============================] - 0s 2ms/step - loss: 1.9552 - accuracy: 0.3050 - val_loss: 1.8751 - val_accuracy: 0.5410\n",
            "Epoch 13/20\n",
            "47/47 [==============================] - 0s 2ms/step - loss: 1.9306 - accuracy: 0.3097 - val_loss: 1.8341 - val_accuracy: 0.5380\n",
            "Epoch 14/20\n",
            "47/47 [==============================] - 0s 3ms/step - loss: 1.8936 - accuracy: 0.3163 - val_loss: 1.7966 - val_accuracy: 0.5530\n",
            "Epoch 15/20\n",
            "47/47 [==============================] - 0s 2ms/step - loss: 1.8718 - accuracy: 0.3410 - val_loss: 1.7622 - val_accuracy: 0.5610\n",
            "Epoch 16/20\n",
            "47/47 [==============================] - 0s 2ms/step - loss: 1.8662 - accuracy: 0.3270 - val_loss: 1.7310 - val_accuracy: 0.5660\n",
            "Epoch 17/20\n",
            "47/47 [==============================] - 0s 2ms/step - loss: 1.8362 - accuracy: 0.3427 - val_loss: 1.6993 - val_accuracy: 0.5780\n",
            "Epoch 18/20\n",
            "47/47 [==============================] - 0s 2ms/step - loss: 1.8153 - accuracy: 0.3487 - val_loss: 1.6745 - val_accuracy: 0.5810\n",
            "Epoch 19/20\n",
            "47/47 [==============================] - 0s 2ms/step - loss: 1.7868 - accuracy: 0.3657 - val_loss: 1.6397 - val_accuracy: 0.5790\n",
            "Epoch 20/20\n",
            "47/47 [==============================] - 0s 2ms/step - loss: 1.7773 - accuracy: 0.3573 - val_loss: 1.6127 - val_accuracy: 0.5940\n",
            "32/32 [==============================] - 0s 1ms/step - loss: 1.6127 - accuracy: 0.5940\n"
          ],
          "name": "stdout"
        },
        {
          "output_type": "stream",
          "text": [
            "\u001b[32m[I 2021-08-25 06:31:48,699]\u001b[0m Trial 3 finished with value: 0.593999981880188 and parameters: {'n_layers': 2, 'n_units_l0': 8, 'dropout_l0': 0.431425445244245, 'n_units_l1': 25, 'dropout_l1': 0.27896167141392825, 'learning_rate': 0.00014881789737974626}. Best is trial 0 with value: 0.625.\u001b[0m\n",
            "/usr/local/lib/python3.7/dist-packages/ipykernel_launcher.py:23: FutureWarning:\n",
            "\n",
            "KerasPruningCallback has been deprecated in v2.1.0. This feature will be removed in v4.0.0. See https://github.com/optuna/optuna/releases/tag/v2.1.0. Recent Keras release (2.4.0) simply redirects all APIs in the standalone keras package to point to tf.keras. There is now only one Keras: tf.keras. There may be some breaking changes for some workflows by upgrading to keras 2.4.0. Test before upgrading. REF:https://github.com/keras-team/keras/releases/tag/2.4.0\n",
            "\n"
          ],
          "name": "stderr"
        },
        {
          "output_type": "stream",
          "text": [
            "Epoch 1/20\n",
            "47/47 [==============================] - 1s 5ms/step - loss: 2.2696 - accuracy: 0.1277 - val_loss: 2.0828 - val_accuracy: 0.2560\n",
            "Epoch 2/20\n",
            "47/47 [==============================] - 0s 2ms/step - loss: 2.1489 - accuracy: 0.1877 - val_loss: 2.0750 - val_accuracy: 0.2640\n",
            "Epoch 3/20\n",
            "47/47 [==============================] - 0s 2ms/step - loss: 2.1141 - accuracy: 0.2010 - val_loss: 1.9455 - val_accuracy: 0.3020\n",
            "Epoch 4/20\n",
            "47/47 [==============================] - 0s 2ms/step - loss: 2.1164 - accuracy: 0.2010 - val_loss: 1.9303 - val_accuracy: 0.3150\n",
            "Epoch 5/20\n",
            "47/47 [==============================] - 0s 2ms/step - loss: 2.0892 - accuracy: 0.2047 - val_loss: 1.8866 - val_accuracy: 0.3160\n",
            "Epoch 6/20\n",
            "47/47 [==============================] - 0s 2ms/step - loss: 2.0752 - accuracy: 0.2117 - val_loss: 1.9448 - val_accuracy: 0.2760\n",
            "Epoch 7/20\n",
            "47/47 [==============================] - 0s 2ms/step - loss: 2.0717 - accuracy: 0.2080 - val_loss: 1.9083 - val_accuracy: 0.2980\n",
            "Epoch 8/20\n",
            "47/47 [==============================] - 0s 2ms/step - loss: 2.0718 - accuracy: 0.2150 - val_loss: 1.7952 - val_accuracy: 0.3950\n",
            "Epoch 9/20\n",
            "47/47 [==============================] - 0s 2ms/step - loss: 2.0539 - accuracy: 0.2070 - val_loss: 1.8291 - val_accuracy: 0.3560\n",
            "Epoch 10/20\n",
            "47/47 [==============================] - 0s 3ms/step - loss: 2.0511 - accuracy: 0.2123 - val_loss: 1.8542 - val_accuracy: 0.3360\n",
            "Epoch 11/20\n",
            "47/47 [==============================] - 0s 2ms/step - loss: 2.0442 - accuracy: 0.2153 - val_loss: 1.8667 - val_accuracy: 0.3330\n",
            "Epoch 12/20\n",
            "47/47 [==============================] - 0s 2ms/step - loss: 2.0436 - accuracy: 0.2180 - val_loss: 1.8237 - val_accuracy: 0.3520\n",
            "Epoch 13/20\n",
            "47/47 [==============================] - 0s 2ms/step - loss: 2.0413 - accuracy: 0.2160 - val_loss: 1.8418 - val_accuracy: 0.3450\n",
            "Epoch 14/20\n",
            "47/47 [==============================] - 0s 2ms/step - loss: 2.0315 - accuracy: 0.2173 - val_loss: 1.8718 - val_accuracy: 0.3070\n",
            "Epoch 15/20\n",
            "47/47 [==============================] - 0s 2ms/step - loss: 2.0313 - accuracy: 0.2227 - val_loss: 1.7758 - val_accuracy: 0.3750\n",
            "Epoch 16/20\n",
            "47/47 [==============================] - 0s 2ms/step - loss: 2.0406 - accuracy: 0.2157 - val_loss: 1.7977 - val_accuracy: 0.3390\n",
            "Epoch 17/20\n",
            "47/47 [==============================] - 0s 2ms/step - loss: 2.0332 - accuracy: 0.2230 - val_loss: 1.8169 - val_accuracy: 0.3870\n",
            "Epoch 18/20\n",
            "47/47 [==============================] - 0s 2ms/step - loss: 2.0787 - accuracy: 0.2183 - val_loss: 1.9022 - val_accuracy: 0.3390\n",
            "Epoch 19/20\n",
            "47/47 [==============================] - 0s 3ms/step - loss: 2.0407 - accuracy: 0.2167 - val_loss: 1.8974 - val_accuracy: 0.3110\n",
            "Epoch 20/20\n",
            "47/47 [==============================] - 0s 2ms/step - loss: 2.0671 - accuracy: 0.2080 - val_loss: 1.8330 - val_accuracy: 0.3440\n",
            "32/32 [==============================] - 0s 1ms/step - loss: 1.8330 - accuracy: 0.3440\n"
          ],
          "name": "stdout"
        },
        {
          "output_type": "stream",
          "text": [
            "\u001b[32m[I 2021-08-25 06:31:52,372]\u001b[0m Trial 4 finished with value: 0.3440000116825104 and parameters: {'n_layers': 3, 'n_units_l0': 4, 'dropout_l0': 0.4818642823408836, 'n_units_l1': 15, 'dropout_l1': 0.32705251378767586, 'n_units_l2': 5, 'dropout_l2': 0.21983563040785067, 'learning_rate': 0.022556406045604636}. Best is trial 0 with value: 0.625.\u001b[0m\n",
            "/usr/local/lib/python3.7/dist-packages/ipykernel_launcher.py:23: FutureWarning:\n",
            "\n",
            "KerasPruningCallback has been deprecated in v2.1.0. This feature will be removed in v4.0.0. See https://github.com/optuna/optuna/releases/tag/v2.1.0. Recent Keras release (2.4.0) simply redirects all APIs in the standalone keras package to point to tf.keras. There is now only one Keras: tf.keras. There may be some breaking changes for some workflows by upgrading to keras 2.4.0. Test before upgrading. REF:https://github.com/keras-team/keras/releases/tag/2.4.0\n",
            "\n"
          ],
          "name": "stderr"
        },
        {
          "output_type": "stream",
          "text": [
            "Epoch 1/20\n",
            "47/47 [==============================] - 1s 6ms/step - loss: 1.9597 - accuracy: 0.3470 - val_loss: 1.6830 - val_accuracy: 0.6250\n",
            "Epoch 2/20\n",
            "47/47 [==============================] - 0s 3ms/step - loss: 1.4606 - accuracy: 0.5910 - val_loss: 1.2965 - val_accuracy: 0.7350\n",
            "Epoch 3/20\n",
            "47/47 [==============================] - 0s 3ms/step - loss: 1.1512 - accuracy: 0.6927 - val_loss: 1.0336 - val_accuracy: 0.7830\n",
            "Epoch 4/20\n",
            "47/47 [==============================] - 0s 3ms/step - loss: 0.9461 - accuracy: 0.7470 - val_loss: 0.8745 - val_accuracy: 0.7930\n",
            "Epoch 5/20\n",
            "47/47 [==============================] - 0s 3ms/step - loss: 0.8186 - accuracy: 0.7780 - val_loss: 0.7596 - val_accuracy: 0.8290\n",
            "Epoch 6/20\n",
            "47/47 [==============================] - 0s 3ms/step - loss: 0.7245 - accuracy: 0.8040 - val_loss: 0.6877 - val_accuracy: 0.8310\n",
            "Epoch 7/20\n",
            "47/47 [==============================] - 0s 4ms/step - loss: 0.6578 - accuracy: 0.8153 - val_loss: 0.6353 - val_accuracy: 0.8440\n",
            "Epoch 8/20\n",
            "47/47 [==============================] - 0s 3ms/step - loss: 0.5923 - accuracy: 0.8317 - val_loss: 0.5919 - val_accuracy: 0.8520\n",
            "Epoch 9/20\n",
            "47/47 [==============================] - 0s 3ms/step - loss: 0.5574 - accuracy: 0.8453 - val_loss: 0.5566 - val_accuracy: 0.8580\n",
            "Epoch 10/20\n",
            "47/47 [==============================] - 0s 3ms/step - loss: 0.5333 - accuracy: 0.8530 - val_loss: 0.5305 - val_accuracy: 0.8590\n",
            "Epoch 11/20\n",
            "47/47 [==============================] - 0s 3ms/step - loss: 0.5068 - accuracy: 0.8580 - val_loss: 0.5087 - val_accuracy: 0.8670\n",
            "Epoch 12/20\n",
            "47/47 [==============================] - 0s 3ms/step - loss: 0.4802 - accuracy: 0.8700 - val_loss: 0.4918 - val_accuracy: 0.8650\n",
            "Epoch 13/20\n",
            "47/47 [==============================] - 0s 3ms/step - loss: 0.4508 - accuracy: 0.8683 - val_loss: 0.4795 - val_accuracy: 0.8690\n",
            "Epoch 14/20\n",
            "47/47 [==============================] - 0s 3ms/step - loss: 0.4432 - accuracy: 0.8797 - val_loss: 0.4628 - val_accuracy: 0.8690\n",
            "Epoch 15/20\n",
            "47/47 [==============================] - 0s 3ms/step - loss: 0.4229 - accuracy: 0.8820 - val_loss: 0.4550 - val_accuracy: 0.8730\n",
            "Epoch 16/20\n",
            "47/47 [==============================] - 0s 3ms/step - loss: 0.4076 - accuracy: 0.8893 - val_loss: 0.4425 - val_accuracy: 0.8710\n",
            "Epoch 17/20\n",
            "47/47 [==============================] - 0s 3ms/step - loss: 0.3985 - accuracy: 0.8863 - val_loss: 0.4351 - val_accuracy: 0.8740\n",
            "Epoch 18/20\n",
            "47/47 [==============================] - 0s 3ms/step - loss: 0.3716 - accuracy: 0.8980 - val_loss: 0.4237 - val_accuracy: 0.8760\n",
            "Epoch 19/20\n",
            "47/47 [==============================] - 0s 3ms/step - loss: 0.3639 - accuracy: 0.8963 - val_loss: 0.4141 - val_accuracy: 0.8780\n",
            "Epoch 20/20\n",
            "47/47 [==============================] - 0s 3ms/step - loss: 0.3541 - accuracy: 0.9053 - val_loss: 0.4116 - val_accuracy: 0.8770\n",
            "32/32 [==============================] - 0s 1ms/step - loss: 0.4116 - accuracy: 0.8770\n"
          ],
          "name": "stdout"
        },
        {
          "output_type": "stream",
          "text": [
            "\u001b[32m[I 2021-08-25 06:31:56,419]\u001b[0m Trial 5 finished with value: 0.8769999742507935 and parameters: {'n_layers': 1, 'n_units_l0': 96, 'dropout_l0': 0.44463510235119474, 'learning_rate': 0.00021830036801948215}. Best is trial 5 with value: 0.8769999742507935.\u001b[0m\n",
            "/usr/local/lib/python3.7/dist-packages/ipykernel_launcher.py:23: FutureWarning:\n",
            "\n",
            "KerasPruningCallback has been deprecated in v2.1.0. This feature will be removed in v4.0.0. See https://github.com/optuna/optuna/releases/tag/v2.1.0. Recent Keras release (2.4.0) simply redirects all APIs in the standalone keras package to point to tf.keras. There is now only one Keras: tf.keras. There may be some breaking changes for some workflows by upgrading to keras 2.4.0. Test before upgrading. REF:https://github.com/keras-team/keras/releases/tag/2.4.0\n",
            "\n"
          ],
          "name": "stderr"
        },
        {
          "output_type": "stream",
          "text": [
            "Epoch 1/20\n",
            "47/47 [==============================] - 1s 5ms/step - loss: 1.7732 - accuracy: 0.4177 - val_loss: 1.4496 - val_accuracy: 0.6630\n",
            "Epoch 2/20\n",
            "47/47 [==============================] - 0s 2ms/step - loss: 1.2604 - accuracy: 0.5937 - val_loss: 1.0752 - val_accuracy: 0.7360\n",
            "Epoch 3/20\n",
            "47/47 [==============================] - 0s 2ms/step - loss: 1.0119 - accuracy: 0.6570 - val_loss: 0.8735 - val_accuracy: 0.7870\n",
            "Epoch 4/20\n",
            "47/47 [==============================] - 0s 2ms/step - loss: 0.9441 - accuracy: 0.6830 - val_loss: 0.7822 - val_accuracy: 0.8120\n",
            "Epoch 5/20\n",
            "47/47 [==============================] - 0s 2ms/step - loss: 0.8850 - accuracy: 0.6977 - val_loss: 0.7250 - val_accuracy: 0.8180\n",
            "Epoch 6/20\n",
            "47/47 [==============================] - 0s 2ms/step - loss: 0.8254 - accuracy: 0.7133 - val_loss: 0.6577 - val_accuracy: 0.8330\n",
            "Epoch 7/20\n",
            "47/47 [==============================] - 0s 2ms/step - loss: 0.7909 - accuracy: 0.7243 - val_loss: 0.6516 - val_accuracy: 0.8340\n",
            "Epoch 8/20\n",
            "47/47 [==============================] - 0s 2ms/step - loss: 0.7467 - accuracy: 0.7450 - val_loss: 0.6123 - val_accuracy: 0.8370\n",
            "Epoch 9/20\n",
            "47/47 [==============================] - 0s 2ms/step - loss: 0.7387 - accuracy: 0.7380 - val_loss: 0.6034 - val_accuracy: 0.8460\n",
            "Epoch 10/20\n",
            "47/47 [==============================] - 0s 2ms/step - loss: 0.7250 - accuracy: 0.7397 - val_loss: 0.5983 - val_accuracy: 0.8400\n",
            "Epoch 11/20\n",
            "47/47 [==============================] - 0s 2ms/step - loss: 0.7044 - accuracy: 0.7520 - val_loss: 0.5850 - val_accuracy: 0.8390\n",
            "Epoch 12/20\n",
            "47/47 [==============================] - 0s 2ms/step - loss: 0.6890 - accuracy: 0.7560 - val_loss: 0.5814 - val_accuracy: 0.8370\n",
            "Epoch 13/20\n",
            "47/47 [==============================] - 0s 2ms/step - loss: 0.6820 - accuracy: 0.7567 - val_loss: 0.5780 - val_accuracy: 0.8390\n",
            "Epoch 14/20\n",
            "47/47 [==============================] - 0s 2ms/step - loss: 0.6739 - accuracy: 0.7607 - val_loss: 0.5695 - val_accuracy: 0.8460\n",
            "Epoch 15/20\n",
            "47/47 [==============================] - 0s 3ms/step - loss: 0.6392 - accuracy: 0.7730 - val_loss: 0.5722 - val_accuracy: 0.8450\n",
            "Epoch 16/20\n",
            "47/47 [==============================] - 0s 2ms/step - loss: 0.6214 - accuracy: 0.7810 - val_loss: 0.5651 - val_accuracy: 0.8420\n",
            "Epoch 17/20\n",
            "47/47 [==============================] - 0s 2ms/step - loss: 0.6451 - accuracy: 0.7713 - val_loss: 0.5615 - val_accuracy: 0.8360\n",
            "Epoch 18/20\n",
            "47/47 [==============================] - 0s 2ms/step - loss: 0.6122 - accuracy: 0.7713 - val_loss: 0.5791 - val_accuracy: 0.8430\n",
            "Epoch 19/20\n",
            "47/47 [==============================] - 0s 2ms/step - loss: 0.6239 - accuracy: 0.7740 - val_loss: 0.5611 - val_accuracy: 0.8410\n",
            "Epoch 20/20\n",
            "47/47 [==============================] - 0s 2ms/step - loss: 0.5940 - accuracy: 0.7887 - val_loss: 0.5673 - val_accuracy: 0.8360\n",
            "32/32 [==============================] - 0s 1ms/step - loss: 0.5673 - accuracy: 0.8360\n"
          ],
          "name": "stdout"
        },
        {
          "output_type": "stream",
          "text": [
            "\u001b[32m[I 2021-08-25 06:31:59,636]\u001b[0m Trial 6 finished with value: 0.8360000252723694 and parameters: {'n_layers': 1, 'n_units_l0': 8, 'dropout_l0': 0.2115072068105493, 'learning_rate': 0.002267102605844644}. Best is trial 5 with value: 0.8769999742507935.\u001b[0m\n",
            "/usr/local/lib/python3.7/dist-packages/ipykernel_launcher.py:23: FutureWarning:\n",
            "\n",
            "KerasPruningCallback has been deprecated in v2.1.0. This feature will be removed in v4.0.0. See https://github.com/optuna/optuna/releases/tag/v2.1.0. Recent Keras release (2.4.0) simply redirects all APIs in the standalone keras package to point to tf.keras. There is now only one Keras: tf.keras. There may be some breaking changes for some workflows by upgrading to keras 2.4.0. Test before upgrading. REF:https://github.com/keras-team/keras/releases/tag/2.4.0\n",
            "\n"
          ],
          "name": "stderr"
        },
        {
          "output_type": "stream",
          "text": [
            "Epoch 1/20\n",
            "47/47 [==============================] - 1s 6ms/step - loss: 2.2774 - accuracy: 0.1287 - val_loss: 2.2266 - val_accuracy: 0.1450\n"
          ],
          "name": "stdout"
        },
        {
          "output_type": "stream",
          "text": [
            "\u001b[32m[I 2021-08-25 06:32:01,196]\u001b[0m Trial 7 pruned. Trial was pruned at epoch 0.\u001b[0m\n",
            "/usr/local/lib/python3.7/dist-packages/ipykernel_launcher.py:23: FutureWarning:\n",
            "\n",
            "KerasPruningCallback has been deprecated in v2.1.0. This feature will be removed in v4.0.0. See https://github.com/optuna/optuna/releases/tag/v2.1.0. Recent Keras release (2.4.0) simply redirects all APIs in the standalone keras package to point to tf.keras. There is now only one Keras: tf.keras. There may be some breaking changes for some workflows by upgrading to keras 2.4.0. Test before upgrading. REF:https://github.com/keras-team/keras/releases/tag/2.4.0\n",
            "\n"
          ],
          "name": "stderr"
        },
        {
          "output_type": "stream",
          "text": [
            "Epoch 1/20\n",
            "47/47 [==============================] - 1s 5ms/step - loss: 2.2811 - accuracy: 0.1463 - val_loss: 2.0700 - val_accuracy: 0.1840\n"
          ],
          "name": "stdout"
        },
        {
          "output_type": "stream",
          "text": [
            "\u001b[32m[I 2021-08-25 06:32:02,778]\u001b[0m Trial 8 pruned. Trial was pruned at epoch 0.\u001b[0m\n",
            "/usr/local/lib/python3.7/dist-packages/ipykernel_launcher.py:23: FutureWarning:\n",
            "\n",
            "KerasPruningCallback has been deprecated in v2.1.0. This feature will be removed in v4.0.0. See https://github.com/optuna/optuna/releases/tag/v2.1.0. Recent Keras release (2.4.0) simply redirects all APIs in the standalone keras package to point to tf.keras. There is now only one Keras: tf.keras. There may be some breaking changes for some workflows by upgrading to keras 2.4.0. Test before upgrading. REF:https://github.com/keras-team/keras/releases/tag/2.4.0\n",
            "\n"
          ],
          "name": "stderr"
        },
        {
          "output_type": "stream",
          "text": [
            "Epoch 1/20\n",
            "47/47 [==============================] - 1s 6ms/step - loss: 2.2842 - accuracy: 0.1060 - val_loss: 2.2472 - val_accuracy: 0.2350\n"
          ],
          "name": "stdout"
        },
        {
          "output_type": "stream",
          "text": [
            "\u001b[32m[I 2021-08-25 06:32:04,209]\u001b[0m Trial 9 pruned. Trial was pruned at epoch 0.\u001b[0m\n",
            "/usr/local/lib/python3.7/dist-packages/ipykernel_launcher.py:23: FutureWarning:\n",
            "\n",
            "KerasPruningCallback has been deprecated in v2.1.0. This feature will be removed in v4.0.0. See https://github.com/optuna/optuna/releases/tag/v2.1.0. Recent Keras release (2.4.0) simply redirects all APIs in the standalone keras package to point to tf.keras. There is now only one Keras: tf.keras. There may be some breaking changes for some workflows by upgrading to keras 2.4.0. Test before upgrading. REF:https://github.com/keras-team/keras/releases/tag/2.4.0\n",
            "\n"
          ],
          "name": "stderr"
        },
        {
          "output_type": "stream",
          "text": [
            "Epoch 1/20\n",
            "47/47 [==============================] - 1s 6ms/step - loss: 2.3827 - accuracy: 0.1210 - val_loss: 2.3042 - val_accuracy: 0.1690\n"
          ],
          "name": "stdout"
        },
        {
          "output_type": "stream",
          "text": [
            "\u001b[32m[I 2021-08-25 06:32:05,450]\u001b[0m Trial 10 pruned. Trial was pruned at epoch 0.\u001b[0m\n",
            "/usr/local/lib/python3.7/dist-packages/ipykernel_launcher.py:23: FutureWarning:\n",
            "\n",
            "KerasPruningCallback has been deprecated in v2.1.0. This feature will be removed in v4.0.0. See https://github.com/optuna/optuna/releases/tag/v2.1.0. Recent Keras release (2.4.0) simply redirects all APIs in the standalone keras package to point to tf.keras. There is now only one Keras: tf.keras. There may be some breaking changes for some workflows by upgrading to keras 2.4.0. Test before upgrading. REF:https://github.com/keras-team/keras/releases/tag/2.4.0\n",
            "\n"
          ],
          "name": "stderr"
        },
        {
          "output_type": "stream",
          "text": [
            "Epoch 1/20\n",
            "47/47 [==============================] - 1s 5ms/step - loss: 1.1720 - accuracy: 0.6813 - val_loss: 0.7422 - val_accuracy: 0.8070\n",
            "Epoch 2/20\n",
            "47/47 [==============================] - 0s 2ms/step - loss: 0.5647 - accuracy: 0.8423 - val_loss: 0.5132 - val_accuracy: 0.8560\n",
            "Epoch 3/20\n",
            "47/47 [==============================] - 0s 2ms/step - loss: 0.4444 - accuracy: 0.8727 - val_loss: 0.4564 - val_accuracy: 0.8670\n",
            "Epoch 4/20\n",
            "47/47 [==============================] - 0s 2ms/step - loss: 0.3555 - accuracy: 0.8973 - val_loss: 0.3864 - val_accuracy: 0.8830\n",
            "Epoch 5/20\n",
            "47/47 [==============================] - 0s 2ms/step - loss: 0.3106 - accuracy: 0.9097 - val_loss: 0.3668 - val_accuracy: 0.8820\n",
            "Epoch 6/20\n",
            "47/47 [==============================] - 0s 2ms/step - loss: 0.2770 - accuracy: 0.9187 - val_loss: 0.3454 - val_accuracy: 0.8900\n",
            "Epoch 7/20\n",
            "47/47 [==============================] - 0s 2ms/step - loss: 0.2413 - accuracy: 0.9243 - val_loss: 0.3366 - val_accuracy: 0.8920\n",
            "Epoch 8/20\n",
            "47/47 [==============================] - 0s 2ms/step - loss: 0.2213 - accuracy: 0.9367 - val_loss: 0.3260 - val_accuracy: 0.8940\n",
            "Epoch 9/20\n",
            "47/47 [==============================] - 0s 2ms/step - loss: 0.2072 - accuracy: 0.9393 - val_loss: 0.3114 - val_accuracy: 0.9000\n",
            "Epoch 10/20\n",
            "47/47 [==============================] - 0s 2ms/step - loss: 0.1862 - accuracy: 0.9450 - val_loss: 0.3128 - val_accuracy: 0.8990\n",
            "Epoch 11/20\n",
            "47/47 [==============================] - 0s 3ms/step - loss: 0.1690 - accuracy: 0.9490 - val_loss: 0.3030 - val_accuracy: 0.9070\n",
            "Epoch 12/20\n",
            "47/47 [==============================] - 0s 2ms/step - loss: 0.1564 - accuracy: 0.9547 - val_loss: 0.3118 - val_accuracy: 0.9020\n",
            "Epoch 13/20\n",
            "47/47 [==============================] - 0s 2ms/step - loss: 0.1459 - accuracy: 0.9573 - val_loss: 0.3150 - val_accuracy: 0.9070\n",
            "Epoch 14/20\n",
            "47/47 [==============================] - 0s 2ms/step - loss: 0.1308 - accuracy: 0.9637 - val_loss: 0.3050 - val_accuracy: 0.9040\n",
            "Epoch 15/20\n",
            "47/47 [==============================] - 0s 3ms/step - loss: 0.1157 - accuracy: 0.9653 - val_loss: 0.3038 - val_accuracy: 0.9060\n",
            "Epoch 16/20\n",
            "47/47 [==============================] - 0s 2ms/step - loss: 0.1176 - accuracy: 0.9673 - val_loss: 0.3124 - val_accuracy: 0.9070\n",
            "Epoch 17/20\n",
            "47/47 [==============================] - 0s 2ms/step - loss: 0.1106 - accuracy: 0.9710 - val_loss: 0.3028 - val_accuracy: 0.9060\n",
            "Epoch 18/20\n",
            "47/47 [==============================] - 0s 2ms/step - loss: 0.1040 - accuracy: 0.9710 - val_loss: 0.2906 - val_accuracy: 0.9120\n",
            "Epoch 19/20\n",
            "47/47 [==============================] - 0s 2ms/step - loss: 0.0889 - accuracy: 0.9743 - val_loss: 0.3023 - val_accuracy: 0.9110\n",
            "Epoch 20/20\n",
            "47/47 [==============================] - 0s 3ms/step - loss: 0.0830 - accuracy: 0.9760 - val_loss: 0.3017 - val_accuracy: 0.9130\n",
            "32/32 [==============================] - 0s 1ms/step - loss: 0.3017 - accuracy: 0.9130\n"
          ],
          "name": "stdout"
        },
        {
          "output_type": "stream",
          "text": [
            "\u001b[32m[I 2021-08-25 06:32:08,899]\u001b[0m Trial 11 finished with value: 0.9129999876022339 and parameters: {'n_layers': 1, 'n_units_l0': 48, 'dropout_l0': 0.20675427068205948, 'learning_rate': 0.0015381421266250687}. Best is trial 11 with value: 0.9129999876022339.\u001b[0m\n",
            "/usr/local/lib/python3.7/dist-packages/ipykernel_launcher.py:23: FutureWarning:\n",
            "\n",
            "KerasPruningCallback has been deprecated in v2.1.0. This feature will be removed in v4.0.0. See https://github.com/optuna/optuna/releases/tag/v2.1.0. Recent Keras release (2.4.0) simply redirects all APIs in the standalone keras package to point to tf.keras. There is now only one Keras: tf.keras. There may be some breaking changes for some workflows by upgrading to keras 2.4.0. Test before upgrading. REF:https://github.com/keras-team/keras/releases/tag/2.4.0\n",
            "\n"
          ],
          "name": "stderr"
        },
        {
          "output_type": "stream",
          "text": [
            "Epoch 1/20\n",
            "47/47 [==============================] - 1s 5ms/step - loss: 1.2368 - accuracy: 0.6297 - val_loss: 0.8014 - val_accuracy: 0.8030\n",
            "Epoch 2/20\n",
            "47/47 [==============================] - 0s 3ms/step - loss: 0.6549 - accuracy: 0.8187 - val_loss: 0.5992 - val_accuracy: 0.8250\n",
            "Epoch 3/20\n",
            "47/47 [==============================] - 0s 3ms/step - loss: 0.5029 - accuracy: 0.8530 - val_loss: 0.4882 - val_accuracy: 0.8570\n",
            "Epoch 4/20\n",
            "47/47 [==============================] - 0s 4ms/step - loss: 0.4155 - accuracy: 0.8840 - val_loss: 0.4485 - val_accuracy: 0.8700\n",
            "Epoch 5/20\n",
            "47/47 [==============================] - 0s 3ms/step - loss: 0.3612 - accuracy: 0.8940 - val_loss: 0.4119 - val_accuracy: 0.8760\n",
            "Epoch 6/20\n",
            "47/47 [==============================] - 0s 3ms/step - loss: 0.3394 - accuracy: 0.8993 - val_loss: 0.3910 - val_accuracy: 0.8780\n",
            "Epoch 7/20\n",
            "47/47 [==============================] - 0s 3ms/step - loss: 0.3019 - accuracy: 0.9153 - val_loss: 0.3694 - val_accuracy: 0.8880\n",
            "Epoch 8/20\n",
            "47/47 [==============================] - 0s 3ms/step - loss: 0.2800 - accuracy: 0.9173 - val_loss: 0.3696 - val_accuracy: 0.8870\n",
            "Epoch 9/20\n",
            "47/47 [==============================] - 0s 3ms/step - loss: 0.2614 - accuracy: 0.9247 - val_loss: 0.3468 - val_accuracy: 0.8970\n",
            "Epoch 10/20\n",
            "47/47 [==============================] - 0s 3ms/step - loss: 0.2358 - accuracy: 0.9313 - val_loss: 0.3427 - val_accuracy: 0.8980\n",
            "Epoch 11/20\n",
            "47/47 [==============================] - 0s 3ms/step - loss: 0.2335 - accuracy: 0.9363 - val_loss: 0.3452 - val_accuracy: 0.8870\n",
            "Epoch 12/20\n",
            "47/47 [==============================] - 0s 3ms/step - loss: 0.2150 - accuracy: 0.9373 - val_loss: 0.3440 - val_accuracy: 0.8890\n",
            "Epoch 13/20\n",
            "47/47 [==============================] - 0s 3ms/step - loss: 0.1983 - accuracy: 0.9407 - val_loss: 0.3316 - val_accuracy: 0.9050\n",
            "Epoch 14/20\n",
            "47/47 [==============================] - 0s 3ms/step - loss: 0.1863 - accuracy: 0.9460 - val_loss: 0.3252 - val_accuracy: 0.8960\n",
            "Epoch 15/20\n",
            "47/47 [==============================] - 0s 4ms/step - loss: 0.1779 - accuracy: 0.9493 - val_loss: 0.3180 - val_accuracy: 0.9060\n",
            "Epoch 16/20\n",
            "47/47 [==============================] - 0s 3ms/step - loss: 0.1542 - accuracy: 0.9577 - val_loss: 0.3257 - val_accuracy: 0.9070\n",
            "Epoch 17/20\n",
            "47/47 [==============================] - 0s 3ms/step - loss: 0.1557 - accuracy: 0.9553 - val_loss: 0.3163 - val_accuracy: 0.9090\n",
            "Epoch 18/20\n",
            "47/47 [==============================] - 0s 3ms/step - loss: 0.1422 - accuracy: 0.9617 - val_loss: 0.3248 - val_accuracy: 0.9050\n",
            "Epoch 19/20\n",
            "47/47 [==============================] - 0s 3ms/step - loss: 0.1399 - accuracy: 0.9573 - val_loss: 0.3195 - val_accuracy: 0.9060\n",
            "Epoch 20/20\n",
            "47/47 [==============================] - 0s 3ms/step - loss: 0.1264 - accuracy: 0.9647 - val_loss: 0.3137 - val_accuracy: 0.9020\n",
            "32/32 [==============================] - 0s 1ms/step - loss: 0.3137 - accuracy: 0.9020\n"
          ],
          "name": "stdout"
        },
        {
          "output_type": "stream",
          "text": [
            "\u001b[32m[I 2021-08-25 06:32:14,907]\u001b[0m Trial 12 finished with value: 0.9020000100135803 and parameters: {'n_layers': 1, 'n_units_l0': 70, 'dropout_l0': 0.31829945314476926, 'learning_rate': 0.001042841395458935}. Best is trial 11 with value: 0.9129999876022339.\u001b[0m\n",
            "/usr/local/lib/python3.7/dist-packages/ipykernel_launcher.py:23: FutureWarning:\n",
            "\n",
            "KerasPruningCallback has been deprecated in v2.1.0. This feature will be removed in v4.0.0. See https://github.com/optuna/optuna/releases/tag/v2.1.0. Recent Keras release (2.4.0) simply redirects all APIs in the standalone keras package to point to tf.keras. There is now only one Keras: tf.keras. There may be some breaking changes for some workflows by upgrading to keras 2.4.0. Test before upgrading. REF:https://github.com/keras-team/keras/releases/tag/2.4.0\n",
            "\n"
          ],
          "name": "stderr"
        },
        {
          "output_type": "stream",
          "text": [
            "Epoch 1/20\n",
            "47/47 [==============================] - 1s 5ms/step - loss: 1.7739 - accuracy: 0.3963 - val_loss: 1.1578 - val_accuracy: 0.7370\n",
            "Epoch 2/20\n",
            "47/47 [==============================] - 0s 3ms/step - loss: 1.1542 - accuracy: 0.6330 - val_loss: 0.7553 - val_accuracy: 0.8170\n",
            "Epoch 3/20\n",
            "47/47 [==============================] - 0s 3ms/step - loss: 0.8571 - accuracy: 0.7350 - val_loss: 0.5510 - val_accuracy: 0.8530\n",
            "Epoch 4/20\n",
            "47/47 [==============================] - 0s 3ms/step - loss: 0.7201 - accuracy: 0.7787 - val_loss: 0.4916 - val_accuracy: 0.8610\n",
            "Epoch 5/20\n",
            "47/47 [==============================] - 0s 3ms/step - loss: 0.6425 - accuracy: 0.8013 - val_loss: 0.4573 - val_accuracy: 0.8730\n",
            "Epoch 6/20\n",
            "47/47 [==============================] - 0s 3ms/step - loss: 0.5643 - accuracy: 0.8360 - val_loss: 0.4326 - val_accuracy: 0.8640\n",
            "Epoch 7/20\n",
            "47/47 [==============================] - 0s 3ms/step - loss: 0.5293 - accuracy: 0.8477 - val_loss: 0.4053 - val_accuracy: 0.8880\n",
            "Epoch 8/20\n",
            "47/47 [==============================] - 0s 3ms/step - loss: 0.4569 - accuracy: 0.8657 - val_loss: 0.3874 - val_accuracy: 0.8810\n",
            "Epoch 9/20\n",
            "47/47 [==============================] - 0s 2ms/step - loss: 0.4182 - accuracy: 0.8740 - val_loss: 0.3746 - val_accuracy: 0.8830\n",
            "Epoch 10/20\n",
            "47/47 [==============================] - 0s 3ms/step - loss: 0.4110 - accuracy: 0.8817 - val_loss: 0.3863 - val_accuracy: 0.8870\n",
            "Epoch 11/20\n",
            "47/47 [==============================] - 0s 2ms/step - loss: 0.3709 - accuracy: 0.8867 - val_loss: 0.3702 - val_accuracy: 0.8940\n",
            "Epoch 12/20\n",
            "47/47 [==============================] - 0s 3ms/step - loss: 0.3615 - accuracy: 0.8887 - val_loss: 0.3599 - val_accuracy: 0.8900\n",
            "Epoch 13/20\n",
            "47/47 [==============================] - 0s 2ms/step - loss: 0.3186 - accuracy: 0.9013 - val_loss: 0.3543 - val_accuracy: 0.8890\n",
            "Epoch 14/20\n",
            "47/47 [==============================] - 0s 3ms/step - loss: 0.2954 - accuracy: 0.9120 - val_loss: 0.3613 - val_accuracy: 0.8940\n",
            "Epoch 15/20\n",
            "47/47 [==============================] - 0s 3ms/step - loss: 0.2957 - accuracy: 0.9137 - val_loss: 0.3506 - val_accuracy: 0.8940\n",
            "Epoch 16/20\n",
            "47/47 [==============================] - 0s 3ms/step - loss: 0.2931 - accuracy: 0.9163 - val_loss: 0.3441 - val_accuracy: 0.8930\n",
            "Epoch 17/20\n",
            "47/47 [==============================] - 0s 2ms/step - loss: 0.2563 - accuracy: 0.9193 - val_loss: 0.3612 - val_accuracy: 0.8980\n",
            "Epoch 18/20\n",
            "47/47 [==============================] - 0s 3ms/step - loss: 0.2571 - accuracy: 0.9273 - val_loss: 0.3801 - val_accuracy: 0.8980\n",
            "Epoch 19/20\n",
            "47/47 [==============================] - 0s 3ms/step - loss: 0.2522 - accuracy: 0.9287 - val_loss: 0.3515 - val_accuracy: 0.8910\n",
            "Epoch 20/20\n",
            "47/47 [==============================] - 0s 3ms/step - loss: 0.2207 - accuracy: 0.9373 - val_loss: 0.3651 - val_accuracy: 0.9010\n",
            "32/32 [==============================] - 0s 1ms/step - loss: 0.3651 - accuracy: 0.9010\n"
          ],
          "name": "stdout"
        },
        {
          "output_type": "stream",
          "text": [
            "\u001b[32m[I 2021-08-25 06:32:18,677]\u001b[0m Trial 13 finished with value: 0.9010000228881836 and parameters: {'n_layers': 2, 'n_units_l0': 50, 'dropout_l0': 0.305077642159821, 'n_units_l1': 52, 'dropout_l1': 0.48758701961707995, 'learning_rate': 0.0013537280916659262}. Best is trial 11 with value: 0.9129999876022339.\u001b[0m\n",
            "/usr/local/lib/python3.7/dist-packages/ipykernel_launcher.py:23: FutureWarning:\n",
            "\n",
            "KerasPruningCallback has been deprecated in v2.1.0. This feature will be removed in v4.0.0. See https://github.com/optuna/optuna/releases/tag/v2.1.0. Recent Keras release (2.4.0) simply redirects all APIs in the standalone keras package to point to tf.keras. There is now only one Keras: tf.keras. There may be some breaking changes for some workflows by upgrading to keras 2.4.0. Test before upgrading. REF:https://github.com/keras-team/keras/releases/tag/2.4.0\n",
            "\n"
          ],
          "name": "stderr"
        },
        {
          "output_type": "stream",
          "text": [
            "Epoch 1/20\n",
            "47/47 [==============================] - 1s 5ms/step - loss: 2.3076 - accuracy: 0.1633 - val_loss: 2.2654 - val_accuracy: 0.1860\n"
          ],
          "name": "stdout"
        },
        {
          "output_type": "stream",
          "text": [
            "\u001b[32m[I 2021-08-25 06:32:19,763]\u001b[0m Trial 14 pruned. Trial was pruned at epoch 0.\u001b[0m\n"
          ],
          "name": "stderr"
        }
      ]
    },
    {
      "cell_type": "code",
      "metadata": {
        "colab": {
          "base_uri": "https://localhost:8080/"
        },
        "id": "I0mSBY9a_D95",
        "outputId": "3cd314e5-88ce-4871-f0f6-3e14904bce4f"
      },
      "source": [
        "print(\"Study statistics: \")\n",
        "print(\"  Number of finished trials: \", len(study.trials))\n",
        "print(\"  Number of pruned trials: \", len(pruned_trials))\n",
        "print(\"  Number of complete trials: \", len(complete_trials))\n",
        "\n",
        "print(\"Best trial:\")\n",
        "trial = study.best_trial\n",
        "\n",
        "print(\"  Value: \", trial.value)\n",
        "\n",
        "print(\"  Params: \")\n",
        "for key, value in trial.params.items():\n",
        "  print(\"    {}: {}\".format(key, value))"
      ],
      "execution_count": 7,
      "outputs": [
        {
          "output_type": "stream",
          "text": [
            "Study statistics: \n",
            "  Number of finished trials:  15\n",
            "  Number of pruned trials:  5\n",
            "  Number of complete trials:  10\n",
            "Best trial:\n",
            "  Value:  0.9129999876022339\n",
            "  Params: \n",
            "    n_layers: 1\n",
            "    n_units_l0: 48\n",
            "    dropout_l0: 0.20675427068205948\n",
            "    learning_rate: 0.0015381421266250687\n"
          ],
          "name": "stdout"
        }
      ]
    }
  ]
}