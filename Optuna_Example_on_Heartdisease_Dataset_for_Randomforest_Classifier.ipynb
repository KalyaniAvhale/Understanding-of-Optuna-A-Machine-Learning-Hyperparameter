{
  "nbformat": 4,
  "nbformat_minor": 0,
  "metadata": {
    "colab": {
      "name": "Optuna Example on Heartdisease Dataset for Randomforest Classifier.ipynb",
      "provenance": [],
      "collapsed_sections": []
    },
    "kernelspec": {
      "name": "python3",
      "display_name": "Python 3"
    }
  },
  "cells": [
    {
      "cell_type": "code",
      "metadata": {
        "id": "egplc5hogmS3"
      },
      "source": [
        "# importing the required libraries\n",
        "import time\n",
        "import numpy as np\n",
        "import pandas as pd\n",
        "import matplotlib.pyplot as plt\n",
        "\n",
        "from sklearn.model_selection import train_test_split\n",
        "\n",
        "from sklearn.ensemble import RandomForestClassifier\n",
        "from sklearn.model_selection import GridSearchCV,cross_val_score\n",
        "from sklearn.metrics import accuracy_score,auc,roc_curve,confusion_matrix, classification_report,roc_auc_score\n"
      ],
      "execution_count": null,
      "outputs": []
    },
    {
      "cell_type": "code",
      "metadata": {
        "colab": {
          "base_uri": "https://localhost:8080/"
        },
        "id": "LVtBsnOfhOVC",
        "outputId": "8a19fedc-f634-4915-f28f-a7c56ee3392c"
      },
      "source": [
        "from google.colab import drive\n",
        "drive.mount('/content/drive')"
      ],
      "execution_count": null,
      "outputs": [
        {
          "output_type": "stream",
          "text": [
            "Mounted at /content/drive\n"
          ],
          "name": "stdout"
        }
      ]
    },
    {
      "cell_type": "code",
      "metadata": {
        "id": "rB31UHeuhgMI"
      },
      "source": [
        "heart_data = pd.read_csv('/content/drive/MyDrive/Colab Notebooks/Datasets/heartdisease.csv')"
      ],
      "execution_count": null,
      "outputs": []
    },
    {
      "cell_type": "code",
      "metadata": {
        "colab": {
          "base_uri": "https://localhost:8080/",
          "height": 202
        },
        "id": "y_wCyQqAhlys",
        "outputId": "a4656405-eb23-41ca-c043-e355c8571d3b"
      },
      "source": [
        "heart_data.head()"
      ],
      "execution_count": null,
      "outputs": [
        {
          "output_type": "execute_result",
          "data": {
            "text/html": [
              "<div>\n",
              "<style scoped>\n",
              "    .dataframe tbody tr th:only-of-type {\n",
              "        vertical-align: middle;\n",
              "    }\n",
              "\n",
              "    .dataframe tbody tr th {\n",
              "        vertical-align: top;\n",
              "    }\n",
              "\n",
              "    .dataframe thead th {\n",
              "        text-align: right;\n",
              "    }\n",
              "</style>\n",
              "<table border=\"1\" class=\"dataframe\">\n",
              "  <thead>\n",
              "    <tr style=\"text-align: right;\">\n",
              "      <th></th>\n",
              "      <th>age</th>\n",
              "      <th>sex</th>\n",
              "      <th>cp</th>\n",
              "      <th>trestbps</th>\n",
              "      <th>chol</th>\n",
              "      <th>fbs</th>\n",
              "      <th>restecg</th>\n",
              "      <th>thalach</th>\n",
              "      <th>exang</th>\n",
              "      <th>oldpeak</th>\n",
              "      <th>slope</th>\n",
              "      <th>ca</th>\n",
              "      <th>thal</th>\n",
              "      <th>target</th>\n",
              "    </tr>\n",
              "  </thead>\n",
              "  <tbody>\n",
              "    <tr>\n",
              "      <th>0</th>\n",
              "      <td>63</td>\n",
              "      <td>1</td>\n",
              "      <td>3</td>\n",
              "      <td>145</td>\n",
              "      <td>233</td>\n",
              "      <td>1</td>\n",
              "      <td>0</td>\n",
              "      <td>150</td>\n",
              "      <td>0</td>\n",
              "      <td>2.3</td>\n",
              "      <td>0</td>\n",
              "      <td>0</td>\n",
              "      <td>1</td>\n",
              "      <td>1</td>\n",
              "    </tr>\n",
              "    <tr>\n",
              "      <th>1</th>\n",
              "      <td>37</td>\n",
              "      <td>1</td>\n",
              "      <td>2</td>\n",
              "      <td>130</td>\n",
              "      <td>250</td>\n",
              "      <td>0</td>\n",
              "      <td>1</td>\n",
              "      <td>187</td>\n",
              "      <td>0</td>\n",
              "      <td>3.5</td>\n",
              "      <td>0</td>\n",
              "      <td>0</td>\n",
              "      <td>2</td>\n",
              "      <td>1</td>\n",
              "    </tr>\n",
              "    <tr>\n",
              "      <th>2</th>\n",
              "      <td>41</td>\n",
              "      <td>0</td>\n",
              "      <td>1</td>\n",
              "      <td>130</td>\n",
              "      <td>204</td>\n",
              "      <td>0</td>\n",
              "      <td>0</td>\n",
              "      <td>172</td>\n",
              "      <td>0</td>\n",
              "      <td>1.4</td>\n",
              "      <td>2</td>\n",
              "      <td>0</td>\n",
              "      <td>2</td>\n",
              "      <td>1</td>\n",
              "    </tr>\n",
              "    <tr>\n",
              "      <th>3</th>\n",
              "      <td>56</td>\n",
              "      <td>1</td>\n",
              "      <td>1</td>\n",
              "      <td>120</td>\n",
              "      <td>236</td>\n",
              "      <td>0</td>\n",
              "      <td>1</td>\n",
              "      <td>178</td>\n",
              "      <td>0</td>\n",
              "      <td>0.8</td>\n",
              "      <td>2</td>\n",
              "      <td>0</td>\n",
              "      <td>2</td>\n",
              "      <td>1</td>\n",
              "    </tr>\n",
              "    <tr>\n",
              "      <th>4</th>\n",
              "      <td>57</td>\n",
              "      <td>0</td>\n",
              "      <td>0</td>\n",
              "      <td>120</td>\n",
              "      <td>354</td>\n",
              "      <td>0</td>\n",
              "      <td>1</td>\n",
              "      <td>163</td>\n",
              "      <td>1</td>\n",
              "      <td>0.6</td>\n",
              "      <td>2</td>\n",
              "      <td>0</td>\n",
              "      <td>2</td>\n",
              "      <td>1</td>\n",
              "    </tr>\n",
              "  </tbody>\n",
              "</table>\n",
              "</div>"
            ],
            "text/plain": [
              "   age  sex  cp  trestbps  chol  fbs  ...  exang  oldpeak  slope  ca  thal  target\n",
              "0   63    1   3       145   233    1  ...      0      2.3      0   0     1       1\n",
              "1   37    1   2       130   250    0  ...      0      3.5      0   0     2       1\n",
              "2   41    0   1       130   204    0  ...      0      1.4      2   0     2       1\n",
              "3   56    1   1       120   236    0  ...      0      0.8      2   0     2       1\n",
              "4   57    0   0       120   354    0  ...      1      0.6      2   0     2       1\n",
              "\n",
              "[5 rows x 14 columns]"
            ]
          },
          "metadata": {},
          "execution_count": 4
        }
      ]
    },
    {
      "cell_type": "code",
      "metadata": {
        "colab": {
          "base_uri": "https://localhost:8080/"
        },
        "id": "2wMqdR34hoY0",
        "outputId": "e690927f-1069-4f9f-d763-2c511693214b"
      },
      "source": [
        "y = heart_data['target']\n",
        "X = heart_data.drop(['target'], axis = 1)\n",
        "X_train, X_test, y_train, y_test = train_test_split(X, y, test_size = 0.30, random_state = 42,stratify=y)\n",
        "X_train.shape, X_test.shape, y_train.shape, y_test.shape"
      ],
      "execution_count": null,
      "outputs": [
        {
          "output_type": "execute_result",
          "data": {
            "text/plain": [
              "((212, 13), (91, 13), (212,), (91,))"
            ]
          },
          "metadata": {},
          "execution_count": 5
        }
      ]
    },
    {
      "cell_type": "markdown",
      "metadata": {
        "id": "rR6cyNIcjnz_"
      },
      "source": [
        "#Random Forest"
      ]
    },
    {
      "cell_type": "code",
      "metadata": {
        "id": "VSbvTtunjWRB",
        "colab": {
          "base_uri": "https://localhost:8080/"
        },
        "outputId": "5a4f4980-4bab-40c1-edb9-3d33737c6b5a"
      },
      "source": [
        "model_rf = RandomForestClassifier(n_estimators=200,max_depth=4,max_features=5,oob_score=True,verbose=0,random_state=50)\n",
        "model_rf.fit(X_train,y_train)\n",
        "\n",
        "print(\" \\n\\nTraining Accuracy Score : \",model_rf.score(X_train,y_train))\n",
        "\n",
        "y_pred_rf_test = model_rf.predict(X_test)\n",
        "print(\" \\n\\nTest Score : \",accuracy_score(y_test,y_pred_rf_test))"
      ],
      "execution_count": null,
      "outputs": [
        {
          "output_type": "stream",
          "text": [
            " \n",
            "\n",
            "Training Accuracy Score :  0.9339622641509434\n",
            " \n",
            "\n",
            "Test Score :  0.7912087912087912\n"
          ],
          "name": "stdout"
        }
      ]
    },
    {
      "cell_type": "markdown",
      "metadata": {
        "id": "IujD3dzPuQLC"
      },
      "source": [
        "## Parameter Tunning using GridSearch CV"
      ]
    },
    {
      "cell_type": "code",
      "metadata": {
        "id": "oXGM1SVClMqL"
      },
      "source": [
        "#hyperparameter tunning\n",
        "#Define Parameter space\n",
        "parameters = {'max_features':np.arange(2,6),'max_depth':np.arange(1,6)}"
      ],
      "execution_count": null,
      "outputs": []
    },
    {
      "cell_type": "code",
      "metadata": {
        "id": "Q1MWzHy4lqLY",
        "colab": {
          "base_uri": "https://localhost:8080/"
        },
        "outputId": "c3e4bd26-88f8-4dba-bdea-e2324e85f510"
      },
      "source": [
        "start = time.time()\n",
        "print(\"Optimizing the parameters\")\n",
        "#optimize parameters by cross validation Grid Search\n",
        "\n",
        "#Gridsearch cv \n",
        "tune_model = GridSearchCV(model_rf,parameters,cv=5,scoring='accuracy',verbose=2)\n",
        "tune_model.fit(X_train,y_train)\n",
        "\n",
        "end = time.time()\n",
        "duration = end - start\n",
        "print ('\\n Parameter Optimization took %0.2f seconds (%0.1f minutes)'%(duration, duration/60) )\n",
        "\n",
        "print(\"\\n\\nBEST PARAMETRS : \",tune_model.best_params_ , \"\\n\\nBEST SCORE : \",tune_model.best_score_)"
      ],
      "execution_count": null,
      "outputs": [
        {
          "output_type": "stream",
          "text": [
            "Optimizing the parameters\n",
            "Fitting 5 folds for each of 20 candidates, totalling 100 fits\n",
            "[CV] max_depth=1, max_features=2 .....................................\n"
          ],
          "name": "stdout"
        },
        {
          "output_type": "stream",
          "text": [
            "[Parallel(n_jobs=1)]: Using backend SequentialBackend with 1 concurrent workers.\n"
          ],
          "name": "stderr"
        },
        {
          "output_type": "stream",
          "text": [
            "[CV] ...................... max_depth=1, max_features=2, total=   0.4s\n",
            "[CV] max_depth=1, max_features=2 .....................................\n"
          ],
          "name": "stdout"
        },
        {
          "output_type": "stream",
          "text": [
            "[Parallel(n_jobs=1)]: Done   1 out of   1 | elapsed:    0.4s remaining:    0.0s\n"
          ],
          "name": "stderr"
        },
        {
          "output_type": "stream",
          "text": [
            "[CV] ...................... max_depth=1, max_features=2, total=   0.4s\n",
            "[CV] max_depth=1, max_features=2 .....................................\n",
            "[CV] ...................... max_depth=1, max_features=2, total=   0.4s\n",
            "[CV] max_depth=1, max_features=2 .....................................\n",
            "[CV] ...................... max_depth=1, max_features=2, total=   0.4s\n",
            "[CV] max_depth=1, max_features=2 .....................................\n",
            "[CV] ...................... max_depth=1, max_features=2, total=   0.4s\n",
            "[CV] max_depth=1, max_features=3 .....................................\n",
            "[CV] ...................... max_depth=1, max_features=3, total=   0.4s\n",
            "[CV] max_depth=1, max_features=3 .....................................\n",
            "[CV] ...................... max_depth=1, max_features=3, total=   0.4s\n",
            "[CV] max_depth=1, max_features=3 .....................................\n",
            "[CV] ...................... max_depth=1, max_features=3, total=   0.4s\n",
            "[CV] max_depth=1, max_features=3 .....................................\n",
            "[CV] ...................... max_depth=1, max_features=3, total=   0.4s\n",
            "[CV] max_depth=1, max_features=3 .....................................\n",
            "[CV] ...................... max_depth=1, max_features=3, total=   0.4s\n",
            "[CV] max_depth=1, max_features=4 .....................................\n",
            "[CV] ...................... max_depth=1, max_features=4, total=   0.4s\n",
            "[CV] max_depth=1, max_features=4 .....................................\n",
            "[CV] ...................... max_depth=1, max_features=4, total=   0.4s\n",
            "[CV] max_depth=1, max_features=4 .....................................\n",
            "[CV] ...................... max_depth=1, max_features=4, total=   0.4s\n",
            "[CV] max_depth=1, max_features=4 .....................................\n",
            "[CV] ...................... max_depth=1, max_features=4, total=   0.4s\n",
            "[CV] max_depth=1, max_features=4 .....................................\n",
            "[CV] ...................... max_depth=1, max_features=4, total=   0.4s\n",
            "[CV] max_depth=1, max_features=5 .....................................\n",
            "[CV] ...................... max_depth=1, max_features=5, total=   0.4s\n",
            "[CV] max_depth=1, max_features=5 .....................................\n",
            "[CV] ...................... max_depth=1, max_features=5, total=   0.4s\n",
            "[CV] max_depth=1, max_features=5 .....................................\n",
            "[CV] ...................... max_depth=1, max_features=5, total=   0.4s\n",
            "[CV] max_depth=1, max_features=5 .....................................\n",
            "[CV] ...................... max_depth=1, max_features=5, total=   0.4s\n",
            "[CV] max_depth=1, max_features=5 .....................................\n",
            "[CV] ...................... max_depth=1, max_features=5, total=   0.4s\n",
            "[CV] max_depth=2, max_features=2 .....................................\n",
            "[CV] ...................... max_depth=2, max_features=2, total=   0.4s\n",
            "[CV] max_depth=2, max_features=2 .....................................\n",
            "[CV] ...................... max_depth=2, max_features=2, total=   0.4s\n",
            "[CV] max_depth=2, max_features=2 .....................................\n",
            "[CV] ...................... max_depth=2, max_features=2, total=   0.4s\n",
            "[CV] max_depth=2, max_features=2 .....................................\n",
            "[CV] ...................... max_depth=2, max_features=2, total=   0.4s\n",
            "[CV] max_depth=2, max_features=2 .....................................\n",
            "[CV] ...................... max_depth=2, max_features=2, total=   0.4s\n",
            "[CV] max_depth=2, max_features=3 .....................................\n",
            "[CV] ...................... max_depth=2, max_features=3, total=   0.4s\n",
            "[CV] max_depth=2, max_features=3 .....................................\n",
            "[CV] ...................... max_depth=2, max_features=3, total=   0.4s\n",
            "[CV] max_depth=2, max_features=3 .....................................\n",
            "[CV] ...................... max_depth=2, max_features=3, total=   0.4s\n",
            "[CV] max_depth=2, max_features=3 .....................................\n",
            "[CV] ...................... max_depth=2, max_features=3, total=   0.4s\n",
            "[CV] max_depth=2, max_features=3 .....................................\n",
            "[CV] ...................... max_depth=2, max_features=3, total=   0.4s\n",
            "[CV] max_depth=2, max_features=4 .....................................\n",
            "[CV] ...................... max_depth=2, max_features=4, total=   0.4s\n",
            "[CV] max_depth=2, max_features=4 .....................................\n",
            "[CV] ...................... max_depth=2, max_features=4, total=   0.4s\n",
            "[CV] max_depth=2, max_features=4 .....................................\n",
            "[CV] ...................... max_depth=2, max_features=4, total=   0.4s\n",
            "[CV] max_depth=2, max_features=4 .....................................\n",
            "[CV] ...................... max_depth=2, max_features=4, total=   0.4s\n",
            "[CV] max_depth=2, max_features=4 .....................................\n",
            "[CV] ...................... max_depth=2, max_features=4, total=   0.4s\n",
            "[CV] max_depth=2, max_features=5 .....................................\n",
            "[CV] ...................... max_depth=2, max_features=5, total=   0.4s\n",
            "[CV] max_depth=2, max_features=5 .....................................\n",
            "[CV] ...................... max_depth=2, max_features=5, total=   0.4s\n",
            "[CV] max_depth=2, max_features=5 .....................................\n",
            "[CV] ...................... max_depth=2, max_features=5, total=   0.4s\n",
            "[CV] max_depth=2, max_features=5 .....................................\n",
            "[CV] ...................... max_depth=2, max_features=5, total=   0.4s\n",
            "[CV] max_depth=2, max_features=5 .....................................\n",
            "[CV] ...................... max_depth=2, max_features=5, total=   0.4s\n",
            "[CV] max_depth=3, max_features=2 .....................................\n",
            "[CV] ...................... max_depth=3, max_features=2, total=   0.4s\n",
            "[CV] max_depth=3, max_features=2 .....................................\n",
            "[CV] ...................... max_depth=3, max_features=2, total=   0.4s\n",
            "[CV] max_depth=3, max_features=2 .....................................\n",
            "[CV] ...................... max_depth=3, max_features=2, total=   0.4s\n",
            "[CV] max_depth=3, max_features=2 .....................................\n",
            "[CV] ...................... max_depth=3, max_features=2, total=   0.4s\n",
            "[CV] max_depth=3, max_features=2 .....................................\n",
            "[CV] ...................... max_depth=3, max_features=2, total=   0.4s\n",
            "[CV] max_depth=3, max_features=3 .....................................\n",
            "[CV] ...................... max_depth=3, max_features=3, total=   0.4s\n",
            "[CV] max_depth=3, max_features=3 .....................................\n",
            "[CV] ...................... max_depth=3, max_features=3, total=   0.4s\n",
            "[CV] max_depth=3, max_features=3 .....................................\n",
            "[CV] ...................... max_depth=3, max_features=3, total=   0.4s\n",
            "[CV] max_depth=3, max_features=3 .....................................\n",
            "[CV] ...................... max_depth=3, max_features=3, total=   0.4s\n",
            "[CV] max_depth=3, max_features=3 .....................................\n",
            "[CV] ...................... max_depth=3, max_features=3, total=   0.4s\n",
            "[CV] max_depth=3, max_features=4 .....................................\n",
            "[CV] ...................... max_depth=3, max_features=4, total=   0.4s\n",
            "[CV] max_depth=3, max_features=4 .....................................\n",
            "[CV] ...................... max_depth=3, max_features=4, total=   0.4s\n",
            "[CV] max_depth=3, max_features=4 .....................................\n",
            "[CV] ...................... max_depth=3, max_features=4, total=   0.4s\n",
            "[CV] max_depth=3, max_features=4 .....................................\n",
            "[CV] ...................... max_depth=3, max_features=4, total=   0.4s\n",
            "[CV] max_depth=3, max_features=4 .....................................\n",
            "[CV] ...................... max_depth=3, max_features=4, total=   0.4s\n",
            "[CV] max_depth=3, max_features=5 .....................................\n",
            "[CV] ...................... max_depth=3, max_features=5, total=   0.4s\n",
            "[CV] max_depth=3, max_features=5 .....................................\n",
            "[CV] ...................... max_depth=3, max_features=5, total=   0.4s\n",
            "[CV] max_depth=3, max_features=5 .....................................\n",
            "[CV] ...................... max_depth=3, max_features=5, total=   0.4s\n",
            "[CV] max_depth=3, max_features=5 .....................................\n",
            "[CV] ...................... max_depth=3, max_features=5, total=   0.5s\n",
            "[CV] max_depth=3, max_features=5 .....................................\n",
            "[CV] ...................... max_depth=3, max_features=5, total=   0.4s\n",
            "[CV] max_depth=4, max_features=2 .....................................\n",
            "[CV] ...................... max_depth=4, max_features=2, total=   0.4s\n",
            "[CV] max_depth=4, max_features=2 .....................................\n",
            "[CV] ...................... max_depth=4, max_features=2, total=   0.4s\n",
            "[CV] max_depth=4, max_features=2 .....................................\n",
            "[CV] ...................... max_depth=4, max_features=2, total=   0.4s\n",
            "[CV] max_depth=4, max_features=2 .....................................\n",
            "[CV] ...................... max_depth=4, max_features=2, total=   0.4s\n",
            "[CV] max_depth=4, max_features=2 .....................................\n",
            "[CV] ...................... max_depth=4, max_features=2, total=   0.4s\n",
            "[CV] max_depth=4, max_features=3 .....................................\n",
            "[CV] ...................... max_depth=4, max_features=3, total=   0.4s\n",
            "[CV] max_depth=4, max_features=3 .....................................\n",
            "[CV] ...................... max_depth=4, max_features=3, total=   0.4s\n",
            "[CV] max_depth=4, max_features=3 .....................................\n",
            "[CV] ...................... max_depth=4, max_features=3, total=   0.4s\n",
            "[CV] max_depth=4, max_features=3 .....................................\n",
            "[CV] ...................... max_depth=4, max_features=3, total=   0.4s\n",
            "[CV] max_depth=4, max_features=3 .....................................\n",
            "[CV] ...................... max_depth=4, max_features=3, total=   0.4s\n",
            "[CV] max_depth=4, max_features=4 .....................................\n",
            "[CV] ...................... max_depth=4, max_features=4, total=   0.4s\n",
            "[CV] max_depth=4, max_features=4 .....................................\n",
            "[CV] ...................... max_depth=4, max_features=4, total=   0.4s\n",
            "[CV] max_depth=4, max_features=4 .....................................\n",
            "[CV] ...................... max_depth=4, max_features=4, total=   0.4s\n",
            "[CV] max_depth=4, max_features=4 .....................................\n",
            "[CV] ...................... max_depth=4, max_features=4, total=   0.4s\n",
            "[CV] max_depth=4, max_features=4 .....................................\n",
            "[CV] ...................... max_depth=4, max_features=4, total=   0.4s\n",
            "[CV] max_depth=4, max_features=5 .....................................\n",
            "[CV] ...................... max_depth=4, max_features=5, total=   0.4s\n",
            "[CV] max_depth=4, max_features=5 .....................................\n",
            "[CV] ...................... max_depth=4, max_features=5, total=   0.4s\n",
            "[CV] max_depth=4, max_features=5 .....................................\n",
            "[CV] ...................... max_depth=4, max_features=5, total=   0.4s\n",
            "[CV] max_depth=4, max_features=5 .....................................\n",
            "[CV] ...................... max_depth=4, max_features=5, total=   0.4s\n",
            "[CV] max_depth=4, max_features=5 .....................................\n",
            "[CV] ...................... max_depth=4, max_features=5, total=   0.4s\n",
            "[CV] max_depth=5, max_features=2 .....................................\n",
            "[CV] ...................... max_depth=5, max_features=2, total=   0.4s\n",
            "[CV] max_depth=5, max_features=2 .....................................\n",
            "[CV] ...................... max_depth=5, max_features=2, total=   0.4s\n",
            "[CV] max_depth=5, max_features=2 .....................................\n",
            "[CV] ...................... max_depth=5, max_features=2, total=   0.4s\n",
            "[CV] max_depth=5, max_features=2 .....................................\n",
            "[CV] ...................... max_depth=5, max_features=2, total=   0.4s\n",
            "[CV] max_depth=5, max_features=2 .....................................\n",
            "[CV] ...................... max_depth=5, max_features=2, total=   0.5s\n",
            "[CV] max_depth=5, max_features=3 .....................................\n",
            "[CV] ...................... max_depth=5, max_features=3, total=   0.4s\n",
            "[CV] max_depth=5, max_features=3 .....................................\n",
            "[CV] ...................... max_depth=5, max_features=3, total=   0.4s\n",
            "[CV] max_depth=5, max_features=3 .....................................\n",
            "[CV] ...................... max_depth=5, max_features=3, total=   0.4s\n",
            "[CV] max_depth=5, max_features=3 .....................................\n",
            "[CV] ...................... max_depth=5, max_features=3, total=   0.4s\n",
            "[CV] max_depth=5, max_features=3 .....................................\n",
            "[CV] ...................... max_depth=5, max_features=3, total=   0.4s\n",
            "[CV] max_depth=5, max_features=4 .....................................\n",
            "[CV] ...................... max_depth=5, max_features=4, total=   0.4s\n",
            "[CV] max_depth=5, max_features=4 .....................................\n",
            "[CV] ...................... max_depth=5, max_features=4, total=   0.4s\n",
            "[CV] max_depth=5, max_features=4 .....................................\n",
            "[CV] ...................... max_depth=5, max_features=4, total=   0.4s\n",
            "[CV] max_depth=5, max_features=4 .....................................\n",
            "[CV] ...................... max_depth=5, max_features=4, total=   0.4s\n",
            "[CV] max_depth=5, max_features=4 .....................................\n",
            "[CV] ...................... max_depth=5, max_features=4, total=   0.4s\n",
            "[CV] max_depth=5, max_features=5 .....................................\n",
            "[CV] ...................... max_depth=5, max_features=5, total=   0.4s\n",
            "[CV] max_depth=5, max_features=5 .....................................\n",
            "[CV] ...................... max_depth=5, max_features=5, total=   0.4s\n",
            "[CV] max_depth=5, max_features=5 .....................................\n",
            "[CV] ...................... max_depth=5, max_features=5, total=   0.4s\n",
            "[CV] max_depth=5, max_features=5 .....................................\n",
            "[CV] ...................... max_depth=5, max_features=5, total=   0.4s\n",
            "[CV] max_depth=5, max_features=5 .....................................\n",
            "[CV] ...................... max_depth=5, max_features=5, total=   0.4s\n"
          ],
          "name": "stdout"
        },
        {
          "output_type": "stream",
          "text": [
            "[Parallel(n_jobs=1)]: Done 100 out of 100 | elapsed:   40.8s finished\n"
          ],
          "name": "stderr"
        },
        {
          "output_type": "stream",
          "text": [
            "\n",
            " Parameter Optimization took 41.24 seconds (0.7 minutes)\n",
            "\n",
            "\n",
            "BEST PARAMETRS :  {'max_depth': 2, 'max_features': 4} \n",
            "\n",
            "BEST SCORE :  0.8498338870431894\n"
          ],
          "name": "stdout"
        }
      ]
    },
    {
      "cell_type": "markdown",
      "metadata": {
        "id": "eJg3A2unagh7"
      },
      "source": [
        "## PARAMETR OPTIMIZATION USING OPTUNA"
      ]
    },
    {
      "cell_type": "markdown",
      "metadata": {
        "id": "2qgd9V3Ryd_g"
      },
      "source": [
        "Optuna formulates the hyperparameter optimization\n",
        "as a process of minimizing/maximizing an objective function\n",
        "that takes a set of hyperparameters as an input and returns its\n",
        "(validation) score.\n",
        "Optuna refers to each process of optimization as a study, and to each evaluation of objective function as a trial. "
      ]
    },
    {
      "cell_type": "code",
      "metadata": {
        "colab": {
          "base_uri": "https://localhost:8080/"
        },
        "id": "FyEGedgjc-xC",
        "outputId": "9b4dd734-f978-4d54-9bb0-efaf2320c170"
      },
      "source": [
        "!pip install optuna -q"
      ],
      "execution_count": null,
      "outputs": [
        {
          "output_type": "stream",
          "text": [
            "\u001b[K     |████████████████████████████████| 302 kB 5.4 MB/s \n",
            "\u001b[K     |████████████████████████████████| 164 kB 49.1 MB/s \n",
            "\u001b[K     |████████████████████████████████| 80 kB 7.9 MB/s \n",
            "\u001b[K     |████████████████████████████████| 75 kB 4.0 MB/s \n",
            "\u001b[K     |████████████████████████████████| 49 kB 4.9 MB/s \n",
            "\u001b[K     |████████████████████████████████| 141 kB 44.8 MB/s \n",
            "\u001b[K     |████████████████████████████████| 111 kB 58.7 MB/s \n",
            "\u001b[?25h  Building wheel for pyperclip (setup.py) ... \u001b[?25l\u001b[?25hdone\n"
          ],
          "name": "stdout"
        }
      ]
    },
    {
      "cell_type": "code",
      "metadata": {
        "id": "hds10PK7dCik"
      },
      "source": [
        "import optuna"
      ],
      "execution_count": null,
      "outputs": []
    },
    {
      "cell_type": "markdown",
      "metadata": {
        "id": "w7X1jIppvVyd"
      },
      "source": [
        "Here we are trying to optimize 3 parameters max_depth , max_features and extimators.\n",
        "\n",
        "Firstly we defined search space for these hyperparameters. \n",
        "\n",
        "As seen, n_estimators are integer ranging from 10 to 100 with step of 10,\n",
        "\n",
        "max_depth is taken from log uniform ranging from 1 to 7 and \n",
        "\n",
        "max_features is taken from log uniform withing range of 1 to 10 .\n",
        "\n",
        "\n",
        "Values and type of values can be changed depending on type of parameter , eg. we can use suggest_categorical to specifi the classifiers \n",
        "\n"
      ]
    },
    {
      "cell_type": "code",
      "metadata": {
        "id": "tGezMgQnagLD"
      },
      "source": [
        "def objective(trial):\n",
        "    \n",
        "    rf_max_depth = trial.suggest_int(\"rf_max_depth\", 1, 7, log=True)\n",
        "    rf_max_features = trial.suggest_int(\"rf_max_features\",1,10,log=True)\n",
        "    rf_estimators = trial.suggest_int('rf_estimators', 10,100,step=10)\n",
        "    classifier_obj = RandomForestClassifier(max_depth=rf_max_depth, n_estimators=rf_estimators,max_features = rf_max_features)\n",
        "\n",
        "    score = cross_val_score(classifier_obj, X_train, y_train, n_jobs=-1, cv=5)\n",
        "    accuracy = score.mean()\n",
        "    return accuracy"
      ],
      "execution_count": null,
      "outputs": []
    },
    {
      "cell_type": "markdown",
      "metadata": {
        "id": "zsPr5qlWzDJx"
      },
      "source": [
        "Secondly , evaluate the objective function value using study object.\n",
        "\n",
        "Direction can be ‘maximize’ or ‘minimize’ depending upon the nature of the objective. Here we need to  maximize the cross_val_score, \n",
        "\n",
        "other paramter to optimize func is No of trials as 100. \n",
        "\n",
        "We haven’t specified the sampler to be used here, by default it is the bayesian optimizer. \n",
        "Once we call the optimize method, the optimization process starts."
      ]
    },
    {
      "cell_type": "code",
      "metadata": {
        "colab": {
          "base_uri": "https://localhost:8080/"
        },
        "id": "L6LEUL82cVaY",
        "outputId": "992003f9-3835-4618-ce42-754bc062d10d"
      },
      "source": [
        "start = time.time()\n",
        "print(\"Optimizing the parameters\")\n",
        "\n",
        "study = optuna.create_study(direction=\"maximize\")\n",
        "study.optimize(objective, n_trials=100)\n",
        "\n",
        "\n",
        "end = time.time()\n",
        "duration = end - start\n",
        "print ('\\n Parameter Optimization took %0.2f seconds (%0.1f minutes)'%(duration, duration/60) )\n",
        "\n",
        "print(\"\\n\\nBEST TRIAL : \\n\",study.best_trial) #get best trial"
      ],
      "execution_count": null,
      "outputs": [
        {
          "output_type": "stream",
          "text": [
            "\u001b[32m[I 2021-08-25 05:31:51,598]\u001b[0m A new study created in memory with name: no-name-edb3dcca-7119-44c6-9bf9-d71091b8ccc8\u001b[0m\n"
          ],
          "name": "stderr"
        },
        {
          "output_type": "stream",
          "text": [
            "Optimizing the parameters\n"
          ],
          "name": "stdout"
        },
        {
          "output_type": "stream",
          "text": [
            "\u001b[32m[I 2021-08-25 05:31:53,123]\u001b[0m Trial 0 finished with value: 0.7883720930232558 and parameters: {'rf_max_depth': 1, 'rf_max_features': 2, 'rf_estimators': 10}. Best is trial 0 with value: 0.7883720930232558.\u001b[0m\n",
            "\u001b[32m[I 2021-08-25 05:31:53,239]\u001b[0m Trial 1 finished with value: 0.7502768549280177 and parameters: {'rf_max_depth': 1, 'rf_max_features': 1, 'rf_estimators': 10}. Best is trial 0 with value: 0.7883720930232558.\u001b[0m\n",
            "\u001b[32m[I 2021-08-25 05:31:53,724]\u001b[0m Trial 2 finished with value: 0.8119601328903656 and parameters: {'rf_max_depth': 3, 'rf_max_features': 8, 'rf_estimators': 60}. Best is trial 2 with value: 0.8119601328903656.\u001b[0m\n",
            "\u001b[32m[I 2021-08-25 05:31:53,841]\u001b[0m Trial 3 finished with value: 0.8067552602436322 and parameters: {'rf_max_depth': 1, 'rf_max_features': 1, 'rf_estimators': 10}. Best is trial 2 with value: 0.8119601328903656.\u001b[0m\n",
            "\u001b[32m[I 2021-08-25 05:31:53,955]\u001b[0m Trial 4 finished with value: 0.8545957918050942 and parameters: {'rf_max_depth': 4, 'rf_max_features': 1, 'rf_estimators': 10}. Best is trial 4 with value: 0.8545957918050942.\u001b[0m\n",
            "\u001b[32m[I 2021-08-25 05:31:54,274]\u001b[0m Trial 5 finished with value: 0.8497231450719823 and parameters: {'rf_max_depth': 1, 'rf_max_features': 4, 'rf_estimators': 40}. Best is trial 4 with value: 0.8545957918050942.\u001b[0m\n",
            "\u001b[32m[I 2021-08-25 05:31:54,878]\u001b[0m Trial 6 finished with value: 0.8591362126245847 and parameters: {'rf_max_depth': 5, 'rf_max_features': 1, 'rf_estimators': 80}. Best is trial 6 with value: 0.8591362126245847.\u001b[0m\n",
            "\u001b[32m[I 2021-08-25 05:31:55,416]\u001b[0m Trial 7 finished with value: 0.8313399778516057 and parameters: {'rf_max_depth': 1, 'rf_max_features': 4, 'rf_estimators': 70}. Best is trial 6 with value: 0.8591362126245847.\u001b[0m\n",
            "\u001b[32m[I 2021-08-25 05:31:55,540]\u001b[0m Trial 8 finished with value: 0.8119601328903654 and parameters: {'rf_max_depth': 1, 'rf_max_features': 1, 'rf_estimators': 10}. Best is trial 6 with value: 0.8591362126245847.\u001b[0m\n",
            "\u001b[32m[I 2021-08-25 05:31:56,284]\u001b[0m Trial 9 finished with value: 0.8498338870431894 and parameters: {'rf_max_depth': 3, 'rf_max_features': 1, 'rf_estimators': 100}. Best is trial 6 with value: 0.8591362126245847.\u001b[0m\n",
            "\u001b[32m[I 2021-08-25 05:31:57,062]\u001b[0m Trial 10 finished with value: 0.840420819490587 and parameters: {'rf_max_depth': 7, 'rf_max_features': 2, 'rf_estimators': 100}. Best is trial 6 with value: 0.8591362126245847.\u001b[0m\n",
            "\u001b[32m[I 2021-08-25 05:31:57,683]\u001b[0m Trial 11 finished with value: 0.8353266888150609 and parameters: {'rf_max_depth': 7, 'rf_max_features': 2, 'rf_estimators': 80}. Best is trial 6 with value: 0.8591362126245847.\u001b[0m\n",
            "\u001b[32m[I 2021-08-25 05:31:58,019]\u001b[0m Trial 12 finished with value: 0.8261351052048728 and parameters: {'rf_max_depth': 4, 'rf_max_features': 1, 'rf_estimators': 40}. Best is trial 6 with value: 0.8591362126245847.\u001b[0m\n",
            "\u001b[32m[I 2021-08-25 05:31:58,354]\u001b[0m Trial 13 finished with value: 0.8449612403100776 and parameters: {'rf_max_depth': 4, 'rf_max_features': 3, 'rf_estimators': 40}. Best is trial 6 with value: 0.8591362126245847.\u001b[0m\n",
            "\u001b[32m[I 2021-08-25 05:31:58,984]\u001b[0m Trial 14 finished with value: 0.8070874861572536 and parameters: {'rf_max_depth': 2, 'rf_max_features': 10, 'rf_estimators': 80}. Best is trial 6 with value: 0.8591362126245847.\u001b[0m\n",
            "\u001b[32m[I 2021-08-25 05:31:59,243]\u001b[0m Trial 15 finished with value: 0.8310077519379846 and parameters: {'rf_max_depth': 5, 'rf_max_features': 2, 'rf_estimators': 30}. Best is trial 6 with value: 0.8591362126245847.\u001b[0m\n",
            "\u001b[32m[I 2021-08-25 05:31:59,851]\u001b[0m Trial 16 finished with value: 0.8498338870431894 and parameters: {'rf_max_depth': 2, 'rf_max_features': 3, 'rf_estimators': 80}. Best is trial 6 with value: 0.8591362126245847.\u001b[0m\n",
            "\u001b[32m[I 2021-08-25 05:32:00,323]\u001b[0m Trial 17 finished with value: 0.8261351052048728 and parameters: {'rf_max_depth': 5, 'rf_max_features': 1, 'rf_estimators': 60}. Best is trial 6 with value: 0.8591362126245847.\u001b[0m\n",
            "\u001b[32m[I 2021-08-25 05:32:01,048]\u001b[0m Trial 18 finished with value: 0.8449612403100776 and parameters: {'rf_max_depth': 3, 'rf_max_features': 5, 'rf_estimators': 90}. Best is trial 6 with value: 0.8591362126245847.\u001b[0m\n",
            "\u001b[32m[I 2021-08-25 05:32:01,317]\u001b[0m Trial 19 finished with value: 0.8212624584717609 and parameters: {'rf_max_depth': 5, 'rf_max_features': 3, 'rf_estimators': 30}. Best is trial 6 with value: 0.8591362126245847.\u001b[0m\n",
            "\u001b[32m[I 2021-08-25 05:32:01,733]\u001b[0m Trial 20 finished with value: 0.8449612403100776 and parameters: {'rf_max_depth': 4, 'rf_max_features': 2, 'rf_estimators': 50}. Best is trial 6 with value: 0.8591362126245847.\u001b[0m\n",
            "\u001b[32m[I 2021-08-25 05:32:02,343]\u001b[0m Trial 21 finished with value: 0.8311184939091916 and parameters: {'rf_max_depth': 2, 'rf_max_features': 3, 'rf_estimators': 80}. Best is trial 6 with value: 0.8591362126245847.\u001b[0m\n",
            "\u001b[32m[I 2021-08-25 05:32:02,904]\u001b[0m Trial 22 finished with value: 0.78859357696567 and parameters: {'rf_max_depth': 2, 'rf_max_features': 4, 'rf_estimators': 70}. Best is trial 6 with value: 0.8591362126245847.\u001b[0m\n",
            "\u001b[32m[I 2021-08-25 05:32:03,650]\u001b[0m Trial 23 finished with value: 0.8499446290143965 and parameters: {'rf_max_depth': 3, 'rf_max_features': 1, 'rf_estimators': 100}. Best is trial 6 with value: 0.8591362126245847.\u001b[0m\n",
            "\u001b[32m[I 2021-08-25 05:32:04,331]\u001b[0m Trial 24 finished with value: 0.8499446290143965 and parameters: {'rf_max_depth': 3, 'rf_max_features': 1, 'rf_estimators': 90}. Best is trial 6 with value: 0.8591362126245847.\u001b[0m\n",
            "\u001b[32m[I 2021-08-25 05:32:05,013]\u001b[0m Trial 25 finished with value: 0.8308970099667775 and parameters: {'rf_max_depth': 6, 'rf_max_features': 1, 'rf_estimators': 90}. Best is trial 6 with value: 0.8591362126245847.\u001b[0m\n",
            "\u001b[32m[I 2021-08-25 05:32:05,767]\u001b[0m Trial 26 finished with value: 0.8403100775193799 and parameters: {'rf_max_depth': 4, 'rf_max_features': 2, 'rf_estimators': 100}. Best is trial 6 with value: 0.8591362126245847.\u001b[0m\n",
            "\u001b[32m[I 2021-08-25 05:32:06,451]\u001b[0m Trial 27 finished with value: 0.8307862679955704 and parameters: {'rf_max_depth': 6, 'rf_max_features': 1, 'rf_estimators': 90}. Best is trial 6 with value: 0.8591362126245847.\u001b[0m\n",
            "\u001b[32m[I 2021-08-25 05:32:07,013]\u001b[0m Trial 28 finished with value: 0.8119601328903656 and parameters: {'rf_max_depth': 3, 'rf_max_features': 1, 'rf_estimators': 70}. Best is trial 6 with value: 0.8591362126245847.\u001b[0m\n",
            "\u001b[32m[I 2021-08-25 05:32:07,215]\u001b[0m Trial 29 finished with value: 0.7878183831672204 and parameters: {'rf_max_depth': 5, 'rf_max_features': 5, 'rf_estimators': 20}. Best is trial 6 with value: 0.8591362126245847.\u001b[0m\n",
            "\u001b[32m[I 2021-08-25 05:32:07,637]\u001b[0m Trial 30 finished with value: 0.8451827242524917 and parameters: {'rf_max_depth': 4, 'rf_max_features': 2, 'rf_estimators': 50}. Best is trial 6 with value: 0.8591362126245847.\u001b[0m\n",
            "\u001b[32m[I 2021-08-25 05:32:08,333]\u001b[0m Trial 31 finished with value: 0.8310077519379846 and parameters: {'rf_max_depth': 3, 'rf_max_features': 1, 'rf_estimators': 90}. Best is trial 6 with value: 0.8591362126245847.\u001b[0m\n",
            "\u001b[32m[I 2021-08-25 05:32:09,171]\u001b[0m Trial 32 finished with value: 0.8449612403100776 and parameters: {'rf_max_depth': 3, 'rf_max_features': 1, 'rf_estimators': 100}. Best is trial 6 with value: 0.8591362126245847.\u001b[0m\n",
            "\u001b[32m[I 2021-08-25 05:32:09,933]\u001b[0m Trial 33 finished with value: 0.8355481727574752 and parameters: {'rf_max_depth': 6, 'rf_max_features': 1, 'rf_estimators': 90}. Best is trial 6 with value: 0.8591362126245847.\u001b[0m\n",
            "\u001b[32m[I 2021-08-25 05:32:10,747]\u001b[0m Trial 34 finished with value: 0.8354374307862681 and parameters: {'rf_max_depth': 4, 'rf_max_features': 1, 'rf_estimators': 100}. Best is trial 6 with value: 0.8591362126245847.\u001b[0m\n",
            "\u001b[32m[I 2021-08-25 05:32:11,324]\u001b[0m Trial 35 finished with value: 0.8119601328903654 and parameters: {'rf_max_depth': 3, 'rf_max_features': 7, 'rf_estimators': 70}. Best is trial 6 with value: 0.8591362126245847.\u001b[0m\n",
            "\u001b[32m[I 2021-08-25 05:32:11,827]\u001b[0m Trial 36 finished with value: 0.8306755260243632 and parameters: {'rf_max_depth': 5, 'rf_max_features': 2, 'rf_estimators': 60}. Best is trial 6 with value: 0.8591362126245847.\u001b[0m\n",
            "\u001b[32m[I 2021-08-25 05:32:12,474]\u001b[0m Trial 37 finished with value: 0.7833887043189368 and parameters: {'rf_max_depth': 6, 'rf_max_features': 7, 'rf_estimators': 80}. Best is trial 6 with value: 0.8591362126245847.\u001b[0m\n",
            "\u001b[32m[I 2021-08-25 05:32:12,659]\u001b[0m Trial 38 finished with value: 0.8450719822812847 and parameters: {'rf_max_depth': 3, 'rf_max_features': 1, 'rf_estimators': 20}. Best is trial 6 with value: 0.8591362126245847.\u001b[0m\n",
            "\u001b[32m[I 2021-08-25 05:32:13,341]\u001b[0m Trial 39 finished with value: 0.8497231450719823 and parameters: {'rf_max_depth': 4, 'rf_max_features': 1, 'rf_estimators': 90}. Best is trial 6 with value: 0.8591362126245847.\u001b[0m\n",
            "\u001b[32m[I 2021-08-25 05:32:14,115]\u001b[0m Trial 40 finished with value: 0.8213732004429678 and parameters: {'rf_max_depth': 5, 'rf_max_features': 5, 'rf_estimators': 100}. Best is trial 6 with value: 0.8591362126245847.\u001b[0m\n",
            "\u001b[32m[I 2021-08-25 05:32:14,860]\u001b[0m Trial 41 finished with value: 0.8498338870431894 and parameters: {'rf_max_depth': 3, 'rf_max_features': 1, 'rf_estimators': 100}. Best is trial 6 with value: 0.8591362126245847.\u001b[0m\n",
            "\u001b[32m[I 2021-08-25 05:32:15,625]\u001b[0m Trial 42 finished with value: 0.8449612403100776 and parameters: {'rf_max_depth': 4, 'rf_max_features': 1, 'rf_estimators': 100}. Best is trial 6 with value: 0.8591362126245847.\u001b[0m\n",
            "\u001b[32m[I 2021-08-25 05:32:16,307]\u001b[0m Trial 43 finished with value: 0.8310077519379846 and parameters: {'rf_max_depth': 3, 'rf_max_features': 1, 'rf_estimators': 90}. Best is trial 6 with value: 0.8591362126245847.\u001b[0m\n",
            "\u001b[32m[I 2021-08-25 05:32:16,915]\u001b[0m Trial 44 finished with value: 0.8308970099667775 and parameters: {'rf_max_depth': 2, 'rf_max_features': 3, 'rf_estimators': 80}. Best is trial 6 with value: 0.8591362126245847.\u001b[0m\n",
            "\u001b[32m[I 2021-08-25 05:32:17,505]\u001b[0m Trial 45 finished with value: 0.8688815060908086 and parameters: {'rf_max_depth': 2, 'rf_max_features': 3, 'rf_estimators': 70}. Best is trial 45 with value: 0.8688815060908086.\u001b[0m\n",
            "\u001b[32m[I 2021-08-25 05:32:18,083]\u001b[0m Trial 46 finished with value: 0.8261351052048728 and parameters: {'rf_max_depth': 2, 'rf_max_features': 6, 'rf_estimators': 70}. Best is trial 45 with value: 0.8688815060908086.\u001b[0m\n",
            "\u001b[32m[I 2021-08-25 05:32:18,637]\u001b[0m Trial 47 finished with value: 0.8263565891472868 and parameters: {'rf_max_depth': 7, 'rf_max_features': 4, 'rf_estimators': 60}. Best is trial 45 with value: 0.8688815060908086.\u001b[0m\n",
            "\u001b[32m[I 2021-08-25 05:32:19,281]\u001b[0m Trial 48 finished with value: 0.8166112956810633 and parameters: {'rf_max_depth': 7, 'rf_max_features': 4, 'rf_estimators': 70}. Best is trial 45 with value: 0.8688815060908086.\u001b[0m\n",
            "\u001b[32m[I 2021-08-25 05:32:19,418]\u001b[0m Trial 49 finished with value: 0.8071982281284609 and parameters: {'rf_max_depth': 4, 'rf_max_features': 3, 'rf_estimators': 10}. Best is trial 45 with value: 0.8688815060908086.\u001b[0m\n",
            "\u001b[32m[I 2021-08-25 05:32:20,049]\u001b[0m Trial 50 finished with value: 0.849501661129568 and parameters: {'rf_max_depth': 6, 'rf_max_features': 2, 'rf_estimators': 80}. Best is trial 45 with value: 0.8688815060908086.\u001b[0m\n",
            "\u001b[32m[I 2021-08-25 05:32:20,672]\u001b[0m Trial 51 finished with value: 0.8547065337763012 and parameters: {'rf_max_depth': 2, 'rf_max_features': 3, 'rf_estimators': 80}. Best is trial 45 with value: 0.8688815060908086.\u001b[0m\n",
            "\u001b[32m[I 2021-08-25 05:32:21,299]\u001b[0m Trial 52 finished with value: 0.8450719822812847 and parameters: {'rf_max_depth': 1, 'rf_max_features': 3, 'rf_estimators': 80}. Best is trial 45 with value: 0.8688815060908086.\u001b[0m\n",
            "\u001b[32m[I 2021-08-25 05:32:21,967]\u001b[0m Trial 53 finished with value: 0.8261351052048728 and parameters: {'rf_max_depth': 2, 'rf_max_features': 4, 'rf_estimators': 90}. Best is trial 45 with value: 0.8688815060908086.\u001b[0m\n",
            "\u001b[32m[I 2021-08-25 05:32:22,592]\u001b[0m Trial 54 finished with value: 0.8260243632336657 and parameters: {'rf_max_depth': 5, 'rf_max_features': 4, 'rf_estimators': 80}. Best is trial 45 with value: 0.8688815060908086.\u001b[0m\n",
            "\u001b[32m[I 2021-08-25 05:32:23,072]\u001b[0m Trial 55 finished with value: 0.8262458471760799 and parameters: {'rf_max_depth': 2, 'rf_max_features': 5, 'rf_estimators': 60}. Best is trial 45 with value: 0.8688815060908086.\u001b[0m\n",
            "\u001b[32m[I 2021-08-25 05:32:23,514]\u001b[0m Trial 56 finished with value: 0.8355481727574752 and parameters: {'rf_max_depth': 4, 'rf_max_features': 3, 'rf_estimators': 50}. Best is trial 45 with value: 0.8688815060908086.\u001b[0m\n",
            "\u001b[32m[I 2021-08-25 05:32:24,073]\u001b[0m Trial 57 finished with value: 0.8024363233665559 and parameters: {'rf_max_depth': 3, 'rf_max_features': 10, 'rf_estimators': 70}. Best is trial 45 with value: 0.8688815060908086.\u001b[0m\n",
            "\u001b[32m[I 2021-08-25 05:32:24,347]\u001b[0m Trial 58 finished with value: 0.8590254706533778 and parameters: {'rf_max_depth': 5, 'rf_max_features': 2, 'rf_estimators': 30}. Best is trial 45 with value: 0.8688815060908086.\u001b[0m\n",
            "\u001b[32m[I 2021-08-25 05:32:24,544]\u001b[0m Trial 59 finished with value: 0.821373200442968 and parameters: {'rf_max_depth': 5, 'rf_max_features': 2, 'rf_estimators': 20}. Best is trial 45 with value: 0.8688815060908086.\u001b[0m\n",
            "\u001b[32m[I 2021-08-25 05:32:24,812]\u001b[0m Trial 60 finished with value: 0.8022148394241417 and parameters: {'rf_max_depth': 6, 'rf_max_features': 6, 'rf_estimators': 30}. Best is trial 45 with value: 0.8688815060908086.\u001b[0m\n",
            "\u001b[32m[I 2021-08-25 05:32:24,936]\u001b[0m Trial 61 finished with value: 0.8306755260243632 and parameters: {'rf_max_depth': 4, 'rf_max_features': 3, 'rf_estimators': 10}. Best is trial 45 with value: 0.8688815060908086.\u001b[0m\n",
            "\u001b[32m[I 2021-08-25 05:32:25,211]\u001b[0m Trial 62 finished with value: 0.8403100775193799 and parameters: {'rf_max_depth': 5, 'rf_max_features': 2, 'rf_estimators': 30}. Best is trial 45 with value: 0.8688815060908086.\u001b[0m\n",
            "\u001b[32m[I 2021-08-25 05:32:25,551]\u001b[0m Trial 63 finished with value: 0.8215946843853821 and parameters: {'rf_max_depth': 5, 'rf_max_features': 4, 'rf_estimators': 40}. Best is trial 45 with value: 0.8688815060908086.\u001b[0m\n",
            "\u001b[32m[I 2021-08-25 05:32:25,744]\u001b[0m Trial 64 finished with value: 0.8212624584717607 and parameters: {'rf_max_depth': 7, 'rf_max_features': 3, 'rf_estimators': 20}. Best is trial 45 with value: 0.8688815060908086.\u001b[0m\n",
            "\u001b[32m[I 2021-08-25 05:32:26,458]\u001b[0m Trial 65 finished with value: 0.821373200442968 and parameters: {'rf_max_depth': 6, 'rf_max_features': 5, 'rf_estimators': 90}. Best is trial 45 with value: 0.8688815060908086.\u001b[0m\n",
            "\u001b[32m[I 2021-08-25 05:32:26,578]\u001b[0m Trial 66 finished with value: 0.7881506090808417 and parameters: {'rf_max_depth': 4, 'rf_max_features': 3, 'rf_estimators': 10}. Best is trial 45 with value: 0.8688815060908086.\u001b[0m\n",
            "\u001b[32m[I 2021-08-25 05:32:27,187]\u001b[0m Trial 67 finished with value: 0.8357696566998893 and parameters: {'rf_max_depth': 3, 'rf_max_features': 2, 'rf_estimators': 80}. Best is trial 45 with value: 0.8688815060908086.\u001b[0m\n",
            "\u001b[32m[I 2021-08-25 05:32:27,460]\u001b[0m Trial 68 finished with value: 0.8259136212624585 and parameters: {'rf_max_depth': 2, 'rf_max_features': 6, 'rf_estimators': 30}. Best is trial 45 with value: 0.8688815060908086.\u001b[0m\n",
            "\u001b[32m[I 2021-08-25 05:32:28,161]\u001b[0m Trial 69 finished with value: 0.8635658914728681 and parameters: {'rf_max_depth': 5, 'rf_max_features': 3, 'rf_estimators': 90}. Best is trial 45 with value: 0.8688815060908086.\u001b[0m\n",
            "\u001b[32m[I 2021-08-25 05:32:28,815]\u001b[0m Trial 70 finished with value: 0.7928017718715392 and parameters: {'rf_max_depth': 5, 'rf_max_features': 9, 'rf_estimators': 80}. Best is trial 45 with value: 0.8688815060908086.\u001b[0m\n",
            "\u001b[32m[I 2021-08-25 05:32:29,545]\u001b[0m Trial 71 finished with value: 0.8169435215946844 and parameters: {'rf_max_depth': 6, 'rf_max_features': 4, 'rf_estimators': 90}. Best is trial 45 with value: 0.8688815060908086.\u001b[0m\n",
            "\u001b[32m[I 2021-08-25 05:32:30,251]\u001b[0m Trial 72 finished with value: 0.8355481727574752 and parameters: {'rf_max_depth': 4, 'rf_max_features': 3, 'rf_estimators': 90}. Best is trial 45 with value: 0.8688815060908086.\u001b[0m\n",
            "\u001b[32m[I 2021-08-25 05:32:31,090]\u001b[0m Trial 73 finished with value: 0.840420819490587 and parameters: {'rf_max_depth': 5, 'rf_max_features': 3, 'rf_estimators': 100}. Best is trial 45 with value: 0.8688815060908086.\u001b[0m\n",
            "\u001b[32m[I 2021-08-25 05:32:31,896]\u001b[0m Trial 74 finished with value: 0.8304540420819491 and parameters: {'rf_max_depth': 6, 'rf_max_features': 4, 'rf_estimators': 90}. Best is trial 45 with value: 0.8688815060908086.\u001b[0m\n",
            "\u001b[32m[I 2021-08-25 05:32:32,526]\u001b[0m Trial 75 finished with value: 0.8166112956810633 and parameters: {'rf_max_depth': 7, 'rf_max_features': 5, 'rf_estimators': 70}. Best is trial 45 with value: 0.8688815060908086.\u001b[0m\n",
            "\u001b[32m[I 2021-08-25 05:32:33,294]\u001b[0m Trial 76 finished with value: 0.8545957918050942 and parameters: {'rf_max_depth': 5, 'rf_max_features': 1, 'rf_estimators': 90}. Best is trial 45 with value: 0.8688815060908086.\u001b[0m\n",
            "\u001b[32m[I 2021-08-25 05:32:33,916]\u001b[0m Trial 77 finished with value: 0.8214839424141749 and parameters: {'rf_max_depth': 5, 'rf_max_features': 1, 'rf_estimators': 80}. Best is trial 45 with value: 0.8688815060908086.\u001b[0m\n",
            "\u001b[32m[I 2021-08-25 05:32:34,608]\u001b[0m Trial 78 finished with value: 0.8403100775193799 and parameters: {'rf_max_depth': 5, 'rf_max_features': 2, 'rf_estimators': 90}. Best is trial 45 with value: 0.8688815060908086.\u001b[0m\n",
            "\u001b[32m[I 2021-08-25 05:32:35,359]\u001b[0m Trial 79 finished with value: 0.8542635658914728 and parameters: {'rf_max_depth': 6, 'rf_max_features': 1, 'rf_estimators': 100}. Best is trial 45 with value: 0.8688815060908086.\u001b[0m\n",
            "\u001b[32m[I 2021-08-25 05:32:36,134]\u001b[0m Trial 80 finished with value: 0.8211517165005537 and parameters: {'rf_max_depth': 7, 'rf_max_features': 3, 'rf_estimators': 100}. Best is trial 45 with value: 0.8688815060908086.\u001b[0m\n",
            "\u001b[32m[I 2021-08-25 05:32:36,905]\u001b[0m Trial 81 finished with value: 0.8405315614617941 and parameters: {'rf_max_depth': 6, 'rf_max_features': 1, 'rf_estimators': 100}. Best is trial 45 with value: 0.8688815060908086.\u001b[0m\n",
            "\u001b[32m[I 2021-08-25 05:32:37,601]\u001b[0m Trial 82 finished with value: 0.8450719822812847 and parameters: {'rf_max_depth': 6, 'rf_max_features': 1, 'rf_estimators': 90}. Best is trial 45 with value: 0.8688815060908086.\u001b[0m\n",
            "\u001b[32m[I 2021-08-25 05:32:38,349]\u001b[0m Trial 83 finished with value: 0.8307862679955704 and parameters: {'rf_max_depth': 5, 'rf_max_features': 1, 'rf_estimators': 100}. Best is trial 45 with value: 0.8688815060908086.\u001b[0m\n",
            "\u001b[32m[I 2021-08-25 05:32:39,008]\u001b[0m Trial 84 finished with value: 0.8119601328903656 and parameters: {'rf_max_depth': 4, 'rf_max_features': 8, 'rf_estimators': 80}. Best is trial 45 with value: 0.8688815060908086.\u001b[0m\n",
            "\u001b[32m[I 2021-08-25 05:32:39,707]\u001b[0m Trial 85 finished with value: 0.8403100775193799 and parameters: {'rf_max_depth': 7, 'rf_max_features': 3, 'rf_estimators': 90}. Best is trial 45 with value: 0.8688815060908086.\u001b[0m\n",
            "\u001b[32m[I 2021-08-25 05:32:40,460]\u001b[0m Trial 86 finished with value: 0.85437430786268 and parameters: {'rf_max_depth': 6, 'rf_max_features': 1, 'rf_estimators': 100}. Best is trial 45 with value: 0.8688815060908086.\u001b[0m\n",
            "\u001b[32m[I 2021-08-25 05:32:41,230]\u001b[0m Trial 87 finished with value: 0.8165005537098562 and parameters: {'rf_max_depth': 6, 'rf_max_features': 4, 'rf_estimators': 100}. Best is trial 45 with value: 0.8688815060908086.\u001b[0m\n",
            "\u001b[32m[I 2021-08-25 05:32:41,565]\u001b[0m Trial 88 finished with value: 0.8400885935769657 and parameters: {'rf_max_depth': 6, 'rf_max_features': 1, 'rf_estimators': 40}. Best is trial 45 with value: 0.8688815060908086.\u001b[0m\n",
            "\u001b[32m[I 2021-08-25 05:32:42,121]\u001b[0m Trial 89 finished with value: 0.840420819490587 and parameters: {'rf_max_depth': 7, 'rf_max_features': 1, 'rf_estimators': 70}. Best is trial 45 with value: 0.8688815060908086.\u001b[0m\n",
            "\u001b[32m[I 2021-08-25 05:32:42,564]\u001b[0m Trial 90 finished with value: 0.8449612403100776 and parameters: {'rf_max_depth': 6, 'rf_max_features': 1, 'rf_estimators': 50}. Best is trial 45 with value: 0.8688815060908086.\u001b[0m\n",
            "\u001b[32m[I 2021-08-25 05:32:43,264]\u001b[0m Trial 91 finished with value: 0.8449612403100776 and parameters: {'rf_max_depth': 5, 'rf_max_features': 1, 'rf_estimators': 90}. Best is trial 45 with value: 0.8688815060908086.\u001b[0m\n",
            "\u001b[32m[I 2021-08-25 05:32:44,059]\u001b[0m Trial 92 finished with value: 0.8357696566998893 and parameters: {'rf_max_depth': 5, 'rf_max_features': 1, 'rf_estimators': 100}. Best is trial 45 with value: 0.8688815060908086.\u001b[0m\n",
            "\u001b[32m[I 2021-08-25 05:32:44,737]\u001b[0m Trial 93 finished with value: 0.8263565891472868 and parameters: {'rf_max_depth': 5, 'rf_max_features': 1, 'rf_estimators': 80}. Best is trial 45 with value: 0.8688815060908086.\u001b[0m\n",
            "\u001b[32m[I 2021-08-25 05:32:45,504]\u001b[0m Trial 94 finished with value: 0.8449612403100776 and parameters: {'rf_max_depth': 4, 'rf_max_features': 3, 'rf_estimators': 90}. Best is trial 45 with value: 0.8688815060908086.\u001b[0m\n",
            "\u001b[32m[I 2021-08-25 05:32:46,291]\u001b[0m Trial 95 finished with value: 0.8497231450719823 and parameters: {'rf_max_depth': 6, 'rf_max_features': 1, 'rf_estimators': 100}. Best is trial 45 with value: 0.8688815060908086.\u001b[0m\n",
            "\u001b[32m[I 2021-08-25 05:32:46,484]\u001b[0m Trial 96 finished with value: 0.8255813953488371 and parameters: {'rf_max_depth': 7, 'rf_max_features': 4, 'rf_estimators': 20}. Best is trial 45 with value: 0.8688815060908086.\u001b[0m\n",
            "\u001b[32m[I 2021-08-25 05:32:47,194]\u001b[0m Trial 97 finished with value: 0.8497231450719823 and parameters: {'rf_max_depth': 5, 'rf_max_features': 2, 'rf_estimators': 90}. Best is trial 45 with value: 0.8688815060908086.\u001b[0m\n",
            "\u001b[32m[I 2021-08-25 05:32:47,956]\u001b[0m Trial 98 finished with value: 0.85437430786268 and parameters: {'rf_max_depth': 6, 'rf_max_features': 1, 'rf_estimators': 100}. Best is trial 45 with value: 0.8688815060908086.\u001b[0m\n",
            "\u001b[32m[I 2021-08-25 05:32:48,732]\u001b[0m Trial 99 finished with value: 0.8306755260243633 and parameters: {'rf_max_depth': 7, 'rf_max_features': 3, 'rf_estimators': 100}. Best is trial 45 with value: 0.8688815060908086.\u001b[0m\n"
          ],
          "name": "stderr"
        },
        {
          "output_type": "stream",
          "text": [
            "\n",
            " Parameter Optimization took 57.14 seconds (1.0 minutes)\n",
            "\n",
            "\n",
            "BEST TRIAL : \n",
            " FrozenTrial(number=45, values=[0.8688815060908086], datetime_start=datetime.datetime(2021, 8, 25, 5, 32, 16, 916709), datetime_complete=datetime.datetime(2021, 8, 25, 5, 32, 17, 505335), params={'rf_max_depth': 2, 'rf_max_features': 3, 'rf_estimators': 70}, distributions={'rf_max_depth': IntLogUniformDistribution(high=7, low=1, step=1), 'rf_max_features': IntLogUniformDistribution(high=10, low=1, step=1), 'rf_estimators': IntUniformDistribution(high=100, low=10, step=10)}, user_attrs={}, system_attrs={}, intermediate_values={}, trial_id=45, state=TrialState.COMPLETE, value=None)\n"
          ],
          "name": "stdout"
        }
      ]
    },
    {
      "cell_type": "code",
      "metadata": {
        "colab": {
          "base_uri": "https://localhost:8080/"
        },
        "id": "a-SWKgt_zv6y",
        "outputId": "bac6bbc6-6a9d-4eaf-a935-ea1dbdc65c60"
      },
      "source": [
        "print(\"\\n\\nBEST PARAMETERS : \\n\",study.best_params) #get best parameters"
      ],
      "execution_count": null,
      "outputs": [
        {
          "output_type": "stream",
          "text": [
            "\n",
            "\n",
            "BEST PARAMETERS : \n",
            " {'rf_max_depth': 2, 'rf_max_features': 3, 'rf_estimators': 70}\n"
          ],
          "name": "stdout"
        }
      ]
    },
    {
      "cell_type": "markdown",
      "metadata": {
        "id": "vv6rLJ880C_a"
      },
      "source": [
        "## Visualization Plots available in Optuna"
      ]
    },
    {
      "cell_type": "code",
      "metadata": {
        "id": "ZhvTYIPdfxzN"
      },
      "source": [
        "from optuna.visualization import plot_optimization_history\n",
        "from optuna.visualization import plot_param_importances\n",
        "from optuna.visualization import plot_slice"
      ],
      "execution_count": null,
      "outputs": []
    },
    {
      "cell_type": "code",
      "metadata": {
        "colab": {
          "base_uri": "https://localhost:8080/",
          "height": 542
        },
        "id": "UbtP3h2Bfxvt",
        "outputId": "2b958bfc-4865-4d69-d93c-df852844821d"
      },
      "source": [
        "plot_optimization_history(study)"
      ],
      "execution_count": null,
      "outputs": [
        {
          "output_type": "display_data",
          "data": {
            "text/html": [
              "<html>\n",
              "<head><meta charset=\"utf-8\" /></head>\n",
              "<body>\n",
              "    <div>\n",
              "            <script src=\"https://cdnjs.cloudflare.com/ajax/libs/mathjax/2.7.5/MathJax.js?config=TeX-AMS-MML_SVG\"></script><script type=\"text/javascript\">if (window.MathJax) {MathJax.Hub.Config({SVG: {font: \"STIX-Web\"}});}</script>\n",
              "                <script type=\"text/javascript\">window.PlotlyConfig = {MathJaxConfig: 'local'};</script>\n",
              "        <script src=\"https://cdn.plot.ly/plotly-latest.min.js\"></script>    \n",
              "            <div id=\"1302d2b4-2bf8-4b3e-8505-7064f4401c41\" class=\"plotly-graph-div\" style=\"height:525px; width:100%;\"></div>\n",
              "            <script type=\"text/javascript\">\n",
              "                \n",
              "                    window.PLOTLYENV=window.PLOTLYENV || {};\n",
              "                    \n",
              "                if (document.getElementById(\"1302d2b4-2bf8-4b3e-8505-7064f4401c41\")) {\n",
              "                    Plotly.newPlot(\n",
              "                        '1302d2b4-2bf8-4b3e-8505-7064f4401c41',\n",
              "                        [{\"mode\": \"markers\", \"name\": \"Objective Value\", \"type\": \"scatter\", \"x\": [0, 1, 2, 3, 4, 5, 6, 7, 8, 9, 10, 11, 12, 13, 14, 15, 16, 17, 18, 19, 20, 21, 22, 23, 24, 25, 26, 27, 28, 29, 30, 31, 32, 33, 34, 35, 36, 37, 38, 39, 40, 41, 42, 43, 44, 45, 46, 47, 48, 49, 50, 51, 52, 53, 54, 55, 56, 57, 58, 59, 60, 61, 62, 63, 64, 65, 66, 67, 68, 69, 70, 71, 72, 73, 74, 75, 76, 77, 78, 79, 80, 81, 82, 83, 84, 85, 86, 87, 88, 89, 90, 91, 92, 93, 94, 95, 96, 97, 98, 99], \"y\": [0.8446009389671362, 0.8069081153588197, 0.8445338698859826, 0.8162977867203219, 0.830449362843729, 0.8634473507712944, 0.8587525150905432, 0.8539906103286384, 0.8446009389671362, 0.8258215962441314, 0.8492957746478873, 0.8070422535211268, 0.8444668008048289, 0.8445338698859826, 0.8587525150905432, 0.8446009389671362, 0.8586854460093897, 0.854057679409792, 0.8446009389671362, 0.8303822937625754, 0.8352112676056338, 0.8634473507712944, 0.8586183769282361, 0.8586854460093897, 0.8351441985244802, 0.8399061032863849, 0.8634473507712944, 0.8492957746478873, 0.8115358819584172, 0.8351441985244802, 0.8539906103286384, 0.8492957746478873, 0.8115358819584172, 0.8586854460093897, 0.8492957746478873, 0.8211267605633803, 0.8585513078470824, 0.8492287055667337, 0.8492957746478873, 0.8257545271629779, 0.8727028839704896, 0.8161636485580148, 0.8399061032863849, 0.8446009389671362, 0.834875922199866, 0.8587525150905432, 0.8351441985244802, 0.8539906103286384, 0.8114688128772637, 0.854057679409792, 0.8491616364855802, 0.8588195841716969, 0.8634473507712944, 0.8539906103286384, 0.8492957746478873, 0.8588195841716969, 0.8352112676056338, 0.8445338698859826, 0.854057679409792, 0.830449362843729, 0.8587525150905432, 0.8682092555331993, 0.8445338698859826, 0.8444668008048289, 0.8397048960429242, 0.8632461435278337, 0.8350771294433267, 0.8444668008048289, 0.8492287055667337, 0.8492957746478873, 0.8256874580818243, 0.8492957746478873, 0.8445338698859826, 0.8633802816901408, 0.8586854460093897, 0.8397719651240778, 0.8443997317236754, 0.8492287055667337, 0.8537894030851777, 0.8211267605633803, 0.8257545271629779, 0.8446680080482897, 0.8633802816901408, 0.8492287055667337, 0.8491616364855802, 0.8446680080482897, 0.8446009389671362, 0.8492287055667337, 0.801945003353454, 0.8257545271629779, 0.8775318578135479, 0.8586854460093897, 0.8445338698859826, 0.8397719651240778, 0.8586183769282361, 0.8492957746478873, 0.8398390342052314, 0.8586854460093897, 0.8493628437290409, 0.8351441985244802]}, {\"name\": \"Best Value\", \"type\": \"scatter\", \"x\": [0, 1, 2, 3, 4, 5, 6, 7, 8, 9, 10, 11, 12, 13, 14, 15, 16, 17, 18, 19, 20, 21, 22, 23, 24, 25, 26, 27, 28, 29, 30, 31, 32, 33, 34, 35, 36, 37, 38, 39, 40, 41, 42, 43, 44, 45, 46, 47, 48, 49, 50, 51, 52, 53, 54, 55, 56, 57, 58, 59, 60, 61, 62, 63, 64, 65, 66, 67, 68, 69, 70, 71, 72, 73, 74, 75, 76, 77, 78, 79, 80, 81, 82, 83, 84, 85, 86, 87, 88, 89, 90, 91, 92, 93, 94, 95, 96, 97, 98, 99], \"y\": [0.8446009389671362, 0.8446009389671362, 0.8446009389671362, 0.8446009389671362, 0.8446009389671362, 0.8634473507712944, 0.8634473507712944, 0.8634473507712944, 0.8634473507712944, 0.8634473507712944, 0.8634473507712944, 0.8634473507712944, 0.8634473507712944, 0.8634473507712944, 0.8634473507712944, 0.8634473507712944, 0.8634473507712944, 0.8634473507712944, 0.8634473507712944, 0.8634473507712944, 0.8634473507712944, 0.8634473507712944, 0.8634473507712944, 0.8634473507712944, 0.8634473507712944, 0.8634473507712944, 0.8634473507712944, 0.8634473507712944, 0.8634473507712944, 0.8634473507712944, 0.8634473507712944, 0.8634473507712944, 0.8634473507712944, 0.8634473507712944, 0.8634473507712944, 0.8634473507712944, 0.8634473507712944, 0.8634473507712944, 0.8634473507712944, 0.8634473507712944, 0.8727028839704896, 0.8727028839704896, 0.8727028839704896, 0.8727028839704896, 0.8727028839704896, 0.8727028839704896, 0.8727028839704896, 0.8727028839704896, 0.8727028839704896, 0.8727028839704896, 0.8727028839704896, 0.8727028839704896, 0.8727028839704896, 0.8727028839704896, 0.8727028839704896, 0.8727028839704896, 0.8727028839704896, 0.8727028839704896, 0.8727028839704896, 0.8727028839704896, 0.8727028839704896, 0.8727028839704896, 0.8727028839704896, 0.8727028839704896, 0.8727028839704896, 0.8727028839704896, 0.8727028839704896, 0.8727028839704896, 0.8727028839704896, 0.8727028839704896, 0.8727028839704896, 0.8727028839704896, 0.8727028839704896, 0.8727028839704896, 0.8727028839704896, 0.8727028839704896, 0.8727028839704896, 0.8727028839704896, 0.8727028839704896, 0.8727028839704896, 0.8727028839704896, 0.8727028839704896, 0.8727028839704896, 0.8727028839704896, 0.8727028839704896, 0.8727028839704896, 0.8727028839704896, 0.8727028839704896, 0.8727028839704896, 0.8727028839704896, 0.8775318578135479, 0.8775318578135479, 0.8775318578135479, 0.8775318578135479, 0.8775318578135479, 0.8775318578135479, 0.8775318578135479, 0.8775318578135479, 0.8775318578135479, 0.8775318578135479]}],\n",
              "                        {\"template\": {\"data\": {\"bar\": [{\"error_x\": {\"color\": \"#2a3f5f\"}, \"error_y\": {\"color\": \"#2a3f5f\"}, \"marker\": {\"line\": {\"color\": \"#E5ECF6\", \"width\": 0.5}}, \"type\": \"bar\"}], \"barpolar\": [{\"marker\": {\"line\": {\"color\": \"#E5ECF6\", \"width\": 0.5}}, \"type\": \"barpolar\"}], \"carpet\": [{\"aaxis\": {\"endlinecolor\": \"#2a3f5f\", \"gridcolor\": \"white\", \"linecolor\": \"white\", \"minorgridcolor\": \"white\", \"startlinecolor\": \"#2a3f5f\"}, \"baxis\": {\"endlinecolor\": \"#2a3f5f\", \"gridcolor\": \"white\", \"linecolor\": \"white\", \"minorgridcolor\": \"white\", \"startlinecolor\": \"#2a3f5f\"}, \"type\": \"carpet\"}], \"choropleth\": [{\"colorbar\": {\"outlinewidth\": 0, \"ticks\": \"\"}, \"type\": \"choropleth\"}], \"contour\": [{\"colorbar\": {\"outlinewidth\": 0, \"ticks\": \"\"}, \"colorscale\": [[0.0, \"#0d0887\"], [0.1111111111111111, \"#46039f\"], [0.2222222222222222, \"#7201a8\"], [0.3333333333333333, \"#9c179e\"], [0.4444444444444444, \"#bd3786\"], [0.5555555555555556, \"#d8576b\"], [0.6666666666666666, \"#ed7953\"], [0.7777777777777778, \"#fb9f3a\"], [0.8888888888888888, \"#fdca26\"], [1.0, \"#f0f921\"]], \"type\": \"contour\"}], \"contourcarpet\": [{\"colorbar\": {\"outlinewidth\": 0, \"ticks\": \"\"}, \"type\": \"contourcarpet\"}], \"heatmap\": [{\"colorbar\": {\"outlinewidth\": 0, \"ticks\": \"\"}, \"colorscale\": [[0.0, \"#0d0887\"], [0.1111111111111111, \"#46039f\"], [0.2222222222222222, \"#7201a8\"], [0.3333333333333333, \"#9c179e\"], [0.4444444444444444, \"#bd3786\"], [0.5555555555555556, \"#d8576b\"], [0.6666666666666666, \"#ed7953\"], [0.7777777777777778, \"#fb9f3a\"], [0.8888888888888888, \"#fdca26\"], [1.0, \"#f0f921\"]], \"type\": \"heatmap\"}], \"heatmapgl\": [{\"colorbar\": {\"outlinewidth\": 0, \"ticks\": \"\"}, \"colorscale\": [[0.0, \"#0d0887\"], [0.1111111111111111, \"#46039f\"], [0.2222222222222222, \"#7201a8\"], [0.3333333333333333, \"#9c179e\"], [0.4444444444444444, \"#bd3786\"], [0.5555555555555556, \"#d8576b\"], [0.6666666666666666, \"#ed7953\"], [0.7777777777777778, \"#fb9f3a\"], [0.8888888888888888, \"#fdca26\"], [1.0, \"#f0f921\"]], \"type\": \"heatmapgl\"}], \"histogram\": [{\"marker\": {\"colorbar\": {\"outlinewidth\": 0, \"ticks\": \"\"}}, \"type\": \"histogram\"}], \"histogram2d\": [{\"colorbar\": {\"outlinewidth\": 0, \"ticks\": \"\"}, \"colorscale\": [[0.0, \"#0d0887\"], [0.1111111111111111, \"#46039f\"], [0.2222222222222222, \"#7201a8\"], [0.3333333333333333, \"#9c179e\"], [0.4444444444444444, \"#bd3786\"], [0.5555555555555556, \"#d8576b\"], [0.6666666666666666, \"#ed7953\"], [0.7777777777777778, \"#fb9f3a\"], [0.8888888888888888, \"#fdca26\"], [1.0, \"#f0f921\"]], \"type\": \"histogram2d\"}], \"histogram2dcontour\": [{\"colorbar\": {\"outlinewidth\": 0, \"ticks\": \"\"}, \"colorscale\": [[0.0, \"#0d0887\"], [0.1111111111111111, \"#46039f\"], [0.2222222222222222, \"#7201a8\"], [0.3333333333333333, \"#9c179e\"], [0.4444444444444444, \"#bd3786\"], [0.5555555555555556, \"#d8576b\"], [0.6666666666666666, \"#ed7953\"], [0.7777777777777778, \"#fb9f3a\"], [0.8888888888888888, \"#fdca26\"], [1.0, \"#f0f921\"]], \"type\": \"histogram2dcontour\"}], \"mesh3d\": [{\"colorbar\": {\"outlinewidth\": 0, \"ticks\": \"\"}, \"type\": \"mesh3d\"}], \"parcoords\": [{\"line\": {\"colorbar\": {\"outlinewidth\": 0, \"ticks\": \"\"}}, \"type\": \"parcoords\"}], \"pie\": [{\"automargin\": true, \"type\": \"pie\"}], \"scatter\": [{\"marker\": {\"colorbar\": {\"outlinewidth\": 0, \"ticks\": \"\"}}, \"type\": \"scatter\"}], \"scatter3d\": [{\"line\": {\"colorbar\": {\"outlinewidth\": 0, \"ticks\": \"\"}}, \"marker\": {\"colorbar\": {\"outlinewidth\": 0, \"ticks\": \"\"}}, \"type\": \"scatter3d\"}], \"scattercarpet\": [{\"marker\": {\"colorbar\": {\"outlinewidth\": 0, \"ticks\": \"\"}}, \"type\": \"scattercarpet\"}], \"scattergeo\": [{\"marker\": {\"colorbar\": {\"outlinewidth\": 0, \"ticks\": \"\"}}, \"type\": \"scattergeo\"}], \"scattergl\": [{\"marker\": {\"colorbar\": {\"outlinewidth\": 0, \"ticks\": \"\"}}, \"type\": \"scattergl\"}], \"scattermapbox\": [{\"marker\": {\"colorbar\": {\"outlinewidth\": 0, \"ticks\": \"\"}}, \"type\": \"scattermapbox\"}], \"scatterpolar\": [{\"marker\": {\"colorbar\": {\"outlinewidth\": 0, \"ticks\": \"\"}}, \"type\": \"scatterpolar\"}], \"scatterpolargl\": [{\"marker\": {\"colorbar\": {\"outlinewidth\": 0, \"ticks\": \"\"}}, \"type\": \"scatterpolargl\"}], \"scatterternary\": [{\"marker\": {\"colorbar\": {\"outlinewidth\": 0, \"ticks\": \"\"}}, \"type\": \"scatterternary\"}], \"surface\": [{\"colorbar\": {\"outlinewidth\": 0, \"ticks\": \"\"}, \"colorscale\": [[0.0, \"#0d0887\"], [0.1111111111111111, \"#46039f\"], [0.2222222222222222, \"#7201a8\"], [0.3333333333333333, \"#9c179e\"], [0.4444444444444444, \"#bd3786\"], [0.5555555555555556, \"#d8576b\"], [0.6666666666666666, \"#ed7953\"], [0.7777777777777778, \"#fb9f3a\"], [0.8888888888888888, \"#fdca26\"], [1.0, \"#f0f921\"]], \"type\": \"surface\"}], \"table\": [{\"cells\": {\"fill\": {\"color\": \"#EBF0F8\"}, \"line\": {\"color\": \"white\"}}, \"header\": {\"fill\": {\"color\": \"#C8D4E3\"}, \"line\": {\"color\": \"white\"}}, \"type\": \"table\"}]}, \"layout\": {\"annotationdefaults\": {\"arrowcolor\": \"#2a3f5f\", \"arrowhead\": 0, \"arrowwidth\": 1}, \"coloraxis\": {\"colorbar\": {\"outlinewidth\": 0, \"ticks\": \"\"}}, \"colorscale\": {\"diverging\": [[0, \"#8e0152\"], [0.1, \"#c51b7d\"], [0.2, \"#de77ae\"], [0.3, \"#f1b6da\"], [0.4, \"#fde0ef\"], [0.5, \"#f7f7f7\"], [0.6, \"#e6f5d0\"], [0.7, \"#b8e186\"], [0.8, \"#7fbc41\"], [0.9, \"#4d9221\"], [1, \"#276419\"]], \"sequential\": [[0.0, \"#0d0887\"], [0.1111111111111111, \"#46039f\"], [0.2222222222222222, \"#7201a8\"], [0.3333333333333333, \"#9c179e\"], [0.4444444444444444, \"#bd3786\"], [0.5555555555555556, \"#d8576b\"], [0.6666666666666666, \"#ed7953\"], [0.7777777777777778, \"#fb9f3a\"], [0.8888888888888888, \"#fdca26\"], [1.0, \"#f0f921\"]], \"sequentialminus\": [[0.0, \"#0d0887\"], [0.1111111111111111, \"#46039f\"], [0.2222222222222222, \"#7201a8\"], [0.3333333333333333, \"#9c179e\"], [0.4444444444444444, \"#bd3786\"], [0.5555555555555556, \"#d8576b\"], [0.6666666666666666, \"#ed7953\"], [0.7777777777777778, \"#fb9f3a\"], [0.8888888888888888, \"#fdca26\"], [1.0, \"#f0f921\"]]}, \"colorway\": [\"#636efa\", \"#EF553B\", \"#00cc96\", \"#ab63fa\", \"#FFA15A\", \"#19d3f3\", \"#FF6692\", \"#B6E880\", \"#FF97FF\", \"#FECB52\"], \"font\": {\"color\": \"#2a3f5f\"}, \"geo\": {\"bgcolor\": \"white\", \"lakecolor\": \"white\", \"landcolor\": \"#E5ECF6\", \"showlakes\": true, \"showland\": true, \"subunitcolor\": \"white\"}, \"hoverlabel\": {\"align\": \"left\"}, \"hovermode\": \"closest\", \"mapbox\": {\"style\": \"light\"}, \"paper_bgcolor\": \"white\", \"plot_bgcolor\": \"#E5ECF6\", \"polar\": {\"angularaxis\": {\"gridcolor\": \"white\", \"linecolor\": \"white\", \"ticks\": \"\"}, \"bgcolor\": \"#E5ECF6\", \"radialaxis\": {\"gridcolor\": \"white\", \"linecolor\": \"white\", \"ticks\": \"\"}}, \"scene\": {\"xaxis\": {\"backgroundcolor\": \"#E5ECF6\", \"gridcolor\": \"white\", \"gridwidth\": 2, \"linecolor\": \"white\", \"showbackground\": true, \"ticks\": \"\", \"zerolinecolor\": \"white\"}, \"yaxis\": {\"backgroundcolor\": \"#E5ECF6\", \"gridcolor\": \"white\", \"gridwidth\": 2, \"linecolor\": \"white\", \"showbackground\": true, \"ticks\": \"\", \"zerolinecolor\": \"white\"}, \"zaxis\": {\"backgroundcolor\": \"#E5ECF6\", \"gridcolor\": \"white\", \"gridwidth\": 2, \"linecolor\": \"white\", \"showbackground\": true, \"ticks\": \"\", \"zerolinecolor\": \"white\"}}, \"shapedefaults\": {\"line\": {\"color\": \"#2a3f5f\"}}, \"ternary\": {\"aaxis\": {\"gridcolor\": \"white\", \"linecolor\": \"white\", \"ticks\": \"\"}, \"baxis\": {\"gridcolor\": \"white\", \"linecolor\": \"white\", \"ticks\": \"\"}, \"bgcolor\": \"#E5ECF6\", \"caxis\": {\"gridcolor\": \"white\", \"linecolor\": \"white\", \"ticks\": \"\"}}, \"title\": {\"x\": 0.05}, \"xaxis\": {\"automargin\": true, \"gridcolor\": \"white\", \"linecolor\": \"white\", \"ticks\": \"\", \"title\": {\"standoff\": 15}, \"zerolinecolor\": \"white\", \"zerolinewidth\": 2}, \"yaxis\": {\"automargin\": true, \"gridcolor\": \"white\", \"linecolor\": \"white\", \"ticks\": \"\", \"title\": {\"standoff\": 15}, \"zerolinecolor\": \"white\", \"zerolinewidth\": 2}}}, \"title\": {\"text\": \"Optimization History Plot\"}, \"xaxis\": {\"title\": {\"text\": \"#Trials\"}}, \"yaxis\": {\"title\": {\"text\": \"Objective Value\"}}},\n",
              "                        {\"responsive\": true}\n",
              "                    ).then(function(){\n",
              "                            \n",
              "var gd = document.getElementById('1302d2b4-2bf8-4b3e-8505-7064f4401c41');\n",
              "var x = new MutationObserver(function (mutations, observer) {{\n",
              "        var display = window.getComputedStyle(gd).display;\n",
              "        if (!display || display === 'none') {{\n",
              "            console.log([gd, 'removed!']);\n",
              "            Plotly.purge(gd);\n",
              "            observer.disconnect();\n",
              "        }}\n",
              "}});\n",
              "\n",
              "// Listen for the removal of the full notebook cells\n",
              "var notebookContainer = gd.closest('#notebook-container');\n",
              "if (notebookContainer) {{\n",
              "    x.observe(notebookContainer, {childList: true});\n",
              "}}\n",
              "\n",
              "// Listen for the clearing of the current output cell\n",
              "var outputEl = gd.closest('.output');\n",
              "if (outputEl) {{\n",
              "    x.observe(outputEl, {childList: true});\n",
              "}}\n",
              "\n",
              "                        })\n",
              "                };\n",
              "                \n",
              "            </script>\n",
              "        </div>\n",
              "</body>\n",
              "</html>"
            ]
          },
          "metadata": {}
        }
      ]
    },
    {
      "cell_type": "code",
      "metadata": {
        "colab": {
          "base_uri": "https://localhost:8080/",
          "height": 542
        },
        "id": "eGuZo4CggGfQ",
        "outputId": "5ed893b1-344e-47cf-c071-7ae2ee18c496"
      },
      "source": [
        "plot_slice(study)"
      ],
      "execution_count": null,
      "outputs": [
        {
          "output_type": "display_data",
          "data": {
            "text/html": [
              "<html>\n",
              "<head><meta charset=\"utf-8\" /></head>\n",
              "<body>\n",
              "    <div>\n",
              "            <script src=\"https://cdnjs.cloudflare.com/ajax/libs/mathjax/2.7.5/MathJax.js?config=TeX-AMS-MML_SVG\"></script><script type=\"text/javascript\">if (window.MathJax) {MathJax.Hub.Config({SVG: {font: \"STIX-Web\"}});}</script>\n",
              "                <script type=\"text/javascript\">window.PlotlyConfig = {MathJaxConfig: 'local'};</script>\n",
              "        <script src=\"https://cdn.plot.ly/plotly-latest.min.js\"></script>    \n",
              "            <div id=\"4ef74330-6107-4383-b96b-690f0c872f92\" class=\"plotly-graph-div\" style=\"height:525px; width:100%;\"></div>\n",
              "            <script type=\"text/javascript\">\n",
              "                \n",
              "                    window.PLOTLYENV=window.PLOTLYENV || {};\n",
              "                    \n",
              "                if (document.getElementById(\"4ef74330-6107-4383-b96b-690f0c872f92\")) {\n",
              "                    Plotly.newPlot(\n",
              "                        '4ef74330-6107-4383-b96b-690f0c872f92',\n",
              "                        [{\"marker\": {\"color\": [0, 1, 2, 3, 4, 5, 6, 7, 8, 9, 10, 11, 12, 13, 14, 15, 16, 17, 18, 19, 20, 21, 22, 23, 24, 25, 26, 27, 28, 29, 30, 31, 32, 33, 34, 35, 36, 37, 38, 39, 40, 41, 42, 43, 44, 45, 46, 47, 48, 49, 50, 51, 52, 53, 54, 55, 56, 57, 58, 59, 60, 61, 62, 63, 64, 65, 66, 67, 68, 69, 70, 71, 72, 73, 74, 75, 76, 77, 78, 79, 80, 81, 82, 83, 84, 85, 86, 87, 88, 89, 90, 91, 92, 93, 94, 95, 96, 97, 98, 99], \"colorbar\": {\"title\": {\"text\": \"#Trials\"}, \"x\": 1.0, \"xpad\": 40}, \"colorscale\": [[0.0, \"rgb(247,251,255)\"], [0.125, \"rgb(222,235,247)\"], [0.25, \"rgb(198,219,239)\"], [0.375, \"rgb(158,202,225)\"], [0.5, \"rgb(107,174,214)\"], [0.625, \"rgb(66,146,198)\"], [0.75, \"rgb(33,113,181)\"], [0.875, \"rgb(8,81,156)\"], [1.0, \"rgb(8,48,107)\"]], \"line\": {\"color\": \"Grey\", \"width\": 0.5}, \"showscale\": true}, \"mode\": \"markers\", \"showlegend\": false, \"type\": \"scatter\", \"x\": [50, 10, 150, 100, 75, 50, 75, 100, 75, 200, 50, 25, 50, 75, 200, 10, 25, 200, 200, 150, 75, 200, 200, 50, 50, 75, 10, 10, 10, 10, 50, 100, 10, 150, 200, 25, 200, 200, 200, 75, 100, 100, 100, 100, 50, 75, 100, 75, 10, 150, 50, 200, 200, 200, 200, 200, 25, 200, 200, 10, 50, 200, 200, 200, 200, 100, 100, 100, 100, 100, 10, 200, 150, 50, 50, 50, 50, 50, 100, 25, 10, 200, 200, 50, 100, 200, 200, 150, 10, 50, 100, 100, 100, 100, 100, 200, 200, 25, 100, 50], \"xaxis\": \"x\", \"y\": [0.8446009389671362, 0.8069081153588197, 0.8445338698859826, 0.8162977867203219, 0.830449362843729, 0.8634473507712944, 0.8587525150905432, 0.8539906103286384, 0.8446009389671362, 0.8258215962441314, 0.8492957746478873, 0.8070422535211268, 0.8444668008048289, 0.8445338698859826, 0.8587525150905432, 0.8446009389671362, 0.8586854460093897, 0.854057679409792, 0.8446009389671362, 0.8303822937625754, 0.8352112676056338, 0.8634473507712944, 0.8586183769282361, 0.8586854460093897, 0.8351441985244802, 0.8399061032863849, 0.8634473507712944, 0.8492957746478873, 0.8115358819584172, 0.8351441985244802, 0.8539906103286384, 0.8492957746478873, 0.8115358819584172, 0.8586854460093897, 0.8492957746478873, 0.8211267605633803, 0.8585513078470824, 0.8492287055667337, 0.8492957746478873, 0.8257545271629779, 0.8727028839704896, 0.8161636485580148, 0.8399061032863849, 0.8446009389671362, 0.834875922199866, 0.8587525150905432, 0.8351441985244802, 0.8539906103286384, 0.8114688128772637, 0.854057679409792, 0.8491616364855802, 0.8588195841716969, 0.8634473507712944, 0.8539906103286384, 0.8492957746478873, 0.8588195841716969, 0.8352112676056338, 0.8445338698859826, 0.854057679409792, 0.830449362843729, 0.8587525150905432, 0.8682092555331993, 0.8445338698859826, 0.8444668008048289, 0.8397048960429242, 0.8632461435278337, 0.8350771294433267, 0.8444668008048289, 0.8492287055667337, 0.8492957746478873, 0.8256874580818243, 0.8492957746478873, 0.8445338698859826, 0.8633802816901408, 0.8586854460093897, 0.8397719651240778, 0.8443997317236754, 0.8492287055667337, 0.8537894030851777, 0.8211267605633803, 0.8257545271629779, 0.8446680080482897, 0.8633802816901408, 0.8492287055667337, 0.8491616364855802, 0.8446680080482897, 0.8446009389671362, 0.8492287055667337, 0.801945003353454, 0.8257545271629779, 0.8775318578135479, 0.8586854460093897, 0.8445338698859826, 0.8397719651240778, 0.8586183769282361, 0.8492957746478873, 0.8398390342052314, 0.8586854460093897, 0.8493628437290409, 0.8351441985244802], \"yaxis\": \"y\"}, {\"marker\": {\"color\": [0, 1, 2, 3, 4, 5, 6, 7, 8, 9, 10, 11, 12, 13, 14, 15, 16, 17, 18, 19, 20, 21, 22, 23, 24, 25, 26, 27, 28, 29, 30, 31, 32, 33, 34, 35, 36, 37, 38, 39, 40, 41, 42, 43, 44, 45, 46, 47, 48, 49, 50, 51, 52, 53, 54, 55, 56, 57, 58, 59, 60, 61, 62, 63, 64, 65, 66, 67, 68, 69, 70, 71, 72, 73, 74, 75, 76, 77, 78, 79, 80, 81, 82, 83, 84, 85, 86, 87, 88, 89, 90, 91, 92, 93, 94, 95, 96, 97, 98, 99], \"colorbar\": {\"title\": {\"text\": \"#Trials\"}, \"x\": 1.0, \"xpad\": 40}, \"colorscale\": [[0.0, \"rgb(247,251,255)\"], [0.125, \"rgb(222,235,247)\"], [0.25, \"rgb(198,219,239)\"], [0.375, \"rgb(158,202,225)\"], [0.5, \"rgb(107,174,214)\"], [0.625, \"rgb(66,146,198)\"], [0.75, \"rgb(33,113,181)\"], [0.875, \"rgb(8,81,156)\"], [1.0, \"rgb(8,48,107)\"]], \"line\": {\"color\": \"Grey\", \"width\": 0.5}, \"showscale\": false}, \"mode\": \"markers\", \"showlegend\": false, \"type\": \"scatter\", \"x\": [1, 2, 4, 1, 1, 3, 2, 1, 3, 3, 6, 2, 3, 2, 5, 4, 3, 6, 4, 5, 2, 4, 5, 3, 4, 3, 2, 4, 5, 3, 2, 2, 2, 4, 5, 3, 6, 5, 4, 1, 5, 6, 4, 5, 6, 2, 3, 2, 3, 2, 4, 5, 5, 6, 5, 4, 4, 5, 4, 6, 5, 4, 5, 4, 4, 6, 6, 6, 5, 6, 3, 4, 5, 6, 6, 5, 6, 6, 5, 3, 6, 5, 5, 5, 6, 4, 5, 5, 6, 4, 6, 6, 6, 5, 6, 5, 5, 6, 4, 4], \"xaxis\": \"x2\", \"y\": [0.8446009389671362, 0.8069081153588197, 0.8445338698859826, 0.8162977867203219, 0.830449362843729, 0.8634473507712944, 0.8587525150905432, 0.8539906103286384, 0.8446009389671362, 0.8258215962441314, 0.8492957746478873, 0.8070422535211268, 0.8444668008048289, 0.8445338698859826, 0.8587525150905432, 0.8446009389671362, 0.8586854460093897, 0.854057679409792, 0.8446009389671362, 0.8303822937625754, 0.8352112676056338, 0.8634473507712944, 0.8586183769282361, 0.8586854460093897, 0.8351441985244802, 0.8399061032863849, 0.8634473507712944, 0.8492957746478873, 0.8115358819584172, 0.8351441985244802, 0.8539906103286384, 0.8492957746478873, 0.8115358819584172, 0.8586854460093897, 0.8492957746478873, 0.8211267605633803, 0.8585513078470824, 0.8492287055667337, 0.8492957746478873, 0.8257545271629779, 0.8727028839704896, 0.8161636485580148, 0.8399061032863849, 0.8446009389671362, 0.834875922199866, 0.8587525150905432, 0.8351441985244802, 0.8539906103286384, 0.8114688128772637, 0.854057679409792, 0.8491616364855802, 0.8588195841716969, 0.8634473507712944, 0.8539906103286384, 0.8492957746478873, 0.8588195841716969, 0.8352112676056338, 0.8445338698859826, 0.854057679409792, 0.830449362843729, 0.8587525150905432, 0.8682092555331993, 0.8445338698859826, 0.8444668008048289, 0.8397048960429242, 0.8632461435278337, 0.8350771294433267, 0.8444668008048289, 0.8492287055667337, 0.8492957746478873, 0.8256874580818243, 0.8492957746478873, 0.8445338698859826, 0.8633802816901408, 0.8586854460093897, 0.8397719651240778, 0.8443997317236754, 0.8492287055667337, 0.8537894030851777, 0.8211267605633803, 0.8257545271629779, 0.8446680080482897, 0.8633802816901408, 0.8492287055667337, 0.8491616364855802, 0.8446680080482897, 0.8446009389671362, 0.8492287055667337, 0.801945003353454, 0.8257545271629779, 0.8775318578135479, 0.8586854460093897, 0.8445338698859826, 0.8397719651240778, 0.8586183769282361, 0.8492957746478873, 0.8398390342052314, 0.8586854460093897, 0.8493628437290409, 0.8351441985244802], \"yaxis\": \"y2\"}, {\"marker\": {\"color\": [0, 1, 2, 3, 4, 5, 6, 7, 8, 9, 10, 11, 12, 13, 14, 15, 16, 17, 18, 19, 20, 21, 22, 23, 24, 25, 26, 27, 28, 29, 30, 31, 32, 33, 34, 35, 36, 37, 38, 39, 40, 41, 42, 43, 44, 45, 46, 47, 48, 49, 50, 51, 52, 53, 54, 55, 56, 57, 58, 59, 60, 61, 62, 63, 64, 65, 66, 67, 68, 69, 70, 71, 72, 73, 74, 75, 76, 77, 78, 79, 80, 81, 82, 83, 84, 85, 86, 87, 88, 89, 90, 91, 92, 93, 94, 95, 96, 97, 98, 99], \"colorbar\": {\"title\": {\"text\": \"#Trials\"}, \"x\": 1.0, \"xpad\": 40}, \"colorscale\": [[0.0, \"rgb(247,251,255)\"], [0.125, \"rgb(222,235,247)\"], [0.25, \"rgb(198,219,239)\"], [0.375, \"rgb(158,202,225)\"], [0.5, \"rgb(107,174,214)\"], [0.625, \"rgb(66,146,198)\"], [0.75, \"rgb(33,113,181)\"], [0.875, \"rgb(8,81,156)\"], [1.0, \"rgb(8,48,107)\"]], \"line\": {\"color\": \"Grey\", \"width\": 0.5}, \"showscale\": false}, \"mode\": \"markers\", \"showlegend\": false, \"type\": \"scatter\", \"x\": [6, 4, 2, 1, 6, 2, 4, 3, 5, 6, 1, 2, 3, 3, 2, 4, 1, 2, 2, 3, 4, 3, 2, 4, 3, 5, 3, 3, 3, 5, 5, 4, 4, 3, 2, 4, 2, 1, 2, 6, 2, 5, 3, 2, 2, 4, 6, 3, 4, 5, 3, 2, 2, 2, 2, 1, 1, 2, 1, 3, 2, 2, 2, 3, 3, 2, 2, 2, 3, 2, 3, 2, 2, 2, 2, 2, 2, 3, 4, 2, 3, 2, 2, 2, 2, 2, 2, 4, 2, 3, 2, 2, 2, 2, 2, 2, 2, 3, 2, 2], \"xaxis\": \"x3\", \"y\": [0.8446009389671362, 0.8069081153588197, 0.8445338698859826, 0.8162977867203219, 0.830449362843729, 0.8634473507712944, 0.8587525150905432, 0.8539906103286384, 0.8446009389671362, 0.8258215962441314, 0.8492957746478873, 0.8070422535211268, 0.8444668008048289, 0.8445338698859826, 0.8587525150905432, 0.8446009389671362, 0.8586854460093897, 0.854057679409792, 0.8446009389671362, 0.8303822937625754, 0.8352112676056338, 0.8634473507712944, 0.8586183769282361, 0.8586854460093897, 0.8351441985244802, 0.8399061032863849, 0.8634473507712944, 0.8492957746478873, 0.8115358819584172, 0.8351441985244802, 0.8539906103286384, 0.8492957746478873, 0.8115358819584172, 0.8586854460093897, 0.8492957746478873, 0.8211267605633803, 0.8585513078470824, 0.8492287055667337, 0.8492957746478873, 0.8257545271629779, 0.8727028839704896, 0.8161636485580148, 0.8399061032863849, 0.8446009389671362, 0.834875922199866, 0.8587525150905432, 0.8351441985244802, 0.8539906103286384, 0.8114688128772637, 0.854057679409792, 0.8491616364855802, 0.8588195841716969, 0.8634473507712944, 0.8539906103286384, 0.8492957746478873, 0.8588195841716969, 0.8352112676056338, 0.8445338698859826, 0.854057679409792, 0.830449362843729, 0.8587525150905432, 0.8682092555331993, 0.8445338698859826, 0.8444668008048289, 0.8397048960429242, 0.8632461435278337, 0.8350771294433267, 0.8444668008048289, 0.8492287055667337, 0.8492957746478873, 0.8256874580818243, 0.8492957746478873, 0.8445338698859826, 0.8633802816901408, 0.8586854460093897, 0.8397719651240778, 0.8443997317236754, 0.8492287055667337, 0.8537894030851777, 0.8211267605633803, 0.8257545271629779, 0.8446680080482897, 0.8633802816901408, 0.8492287055667337, 0.8491616364855802, 0.8446680080482897, 0.8446009389671362, 0.8492287055667337, 0.801945003353454, 0.8257545271629779, 0.8775318578135479, 0.8586854460093897, 0.8445338698859826, 0.8397719651240778, 0.8586183769282361, 0.8492957746478873, 0.8398390342052314, 0.8586854460093897, 0.8493628437290409, 0.8351441985244802], \"yaxis\": \"y3\"}],\n",
              "                        {\"template\": {\"data\": {\"bar\": [{\"error_x\": {\"color\": \"#2a3f5f\"}, \"error_y\": {\"color\": \"#2a3f5f\"}, \"marker\": {\"line\": {\"color\": \"#E5ECF6\", \"width\": 0.5}}, \"type\": \"bar\"}], \"barpolar\": [{\"marker\": {\"line\": {\"color\": \"#E5ECF6\", \"width\": 0.5}}, \"type\": \"barpolar\"}], \"carpet\": [{\"aaxis\": {\"endlinecolor\": \"#2a3f5f\", \"gridcolor\": \"white\", \"linecolor\": \"white\", \"minorgridcolor\": \"white\", \"startlinecolor\": \"#2a3f5f\"}, \"baxis\": {\"endlinecolor\": \"#2a3f5f\", \"gridcolor\": \"white\", \"linecolor\": \"white\", \"minorgridcolor\": \"white\", \"startlinecolor\": \"#2a3f5f\"}, \"type\": \"carpet\"}], \"choropleth\": [{\"colorbar\": {\"outlinewidth\": 0, \"ticks\": \"\"}, \"type\": \"choropleth\"}], \"contour\": [{\"colorbar\": {\"outlinewidth\": 0, \"ticks\": \"\"}, \"colorscale\": [[0.0, \"#0d0887\"], [0.1111111111111111, \"#46039f\"], [0.2222222222222222, \"#7201a8\"], [0.3333333333333333, \"#9c179e\"], [0.4444444444444444, \"#bd3786\"], [0.5555555555555556, \"#d8576b\"], [0.6666666666666666, \"#ed7953\"], [0.7777777777777778, \"#fb9f3a\"], [0.8888888888888888, \"#fdca26\"], [1.0, \"#f0f921\"]], \"type\": \"contour\"}], \"contourcarpet\": [{\"colorbar\": {\"outlinewidth\": 0, \"ticks\": \"\"}, \"type\": \"contourcarpet\"}], \"heatmap\": [{\"colorbar\": {\"outlinewidth\": 0, \"ticks\": \"\"}, \"colorscale\": [[0.0, \"#0d0887\"], [0.1111111111111111, \"#46039f\"], [0.2222222222222222, \"#7201a8\"], [0.3333333333333333, \"#9c179e\"], [0.4444444444444444, \"#bd3786\"], [0.5555555555555556, \"#d8576b\"], [0.6666666666666666, \"#ed7953\"], [0.7777777777777778, \"#fb9f3a\"], [0.8888888888888888, \"#fdca26\"], [1.0, \"#f0f921\"]], \"type\": \"heatmap\"}], \"heatmapgl\": [{\"colorbar\": {\"outlinewidth\": 0, \"ticks\": \"\"}, \"colorscale\": [[0.0, \"#0d0887\"], [0.1111111111111111, \"#46039f\"], [0.2222222222222222, \"#7201a8\"], [0.3333333333333333, \"#9c179e\"], [0.4444444444444444, \"#bd3786\"], [0.5555555555555556, \"#d8576b\"], [0.6666666666666666, \"#ed7953\"], [0.7777777777777778, \"#fb9f3a\"], [0.8888888888888888, \"#fdca26\"], [1.0, \"#f0f921\"]], \"type\": \"heatmapgl\"}], \"histogram\": [{\"marker\": {\"colorbar\": {\"outlinewidth\": 0, \"ticks\": \"\"}}, \"type\": \"histogram\"}], \"histogram2d\": [{\"colorbar\": {\"outlinewidth\": 0, \"ticks\": \"\"}, \"colorscale\": [[0.0, \"#0d0887\"], [0.1111111111111111, \"#46039f\"], [0.2222222222222222, \"#7201a8\"], [0.3333333333333333, \"#9c179e\"], [0.4444444444444444, \"#bd3786\"], [0.5555555555555556, \"#d8576b\"], [0.6666666666666666, \"#ed7953\"], [0.7777777777777778, \"#fb9f3a\"], [0.8888888888888888, \"#fdca26\"], [1.0, \"#f0f921\"]], \"type\": \"histogram2d\"}], \"histogram2dcontour\": [{\"colorbar\": {\"outlinewidth\": 0, \"ticks\": \"\"}, \"colorscale\": [[0.0, \"#0d0887\"], [0.1111111111111111, \"#46039f\"], [0.2222222222222222, \"#7201a8\"], [0.3333333333333333, \"#9c179e\"], [0.4444444444444444, \"#bd3786\"], [0.5555555555555556, \"#d8576b\"], [0.6666666666666666, \"#ed7953\"], [0.7777777777777778, \"#fb9f3a\"], [0.8888888888888888, \"#fdca26\"], [1.0, \"#f0f921\"]], \"type\": \"histogram2dcontour\"}], \"mesh3d\": [{\"colorbar\": {\"outlinewidth\": 0, \"ticks\": \"\"}, \"type\": \"mesh3d\"}], \"parcoords\": [{\"line\": {\"colorbar\": {\"outlinewidth\": 0, \"ticks\": \"\"}}, \"type\": \"parcoords\"}], \"pie\": [{\"automargin\": true, \"type\": \"pie\"}], \"scatter\": [{\"marker\": {\"colorbar\": {\"outlinewidth\": 0, \"ticks\": \"\"}}, \"type\": \"scatter\"}], \"scatter3d\": [{\"line\": {\"colorbar\": {\"outlinewidth\": 0, \"ticks\": \"\"}}, \"marker\": {\"colorbar\": {\"outlinewidth\": 0, \"ticks\": \"\"}}, \"type\": \"scatter3d\"}], \"scattercarpet\": [{\"marker\": {\"colorbar\": {\"outlinewidth\": 0, \"ticks\": \"\"}}, \"type\": \"scattercarpet\"}], \"scattergeo\": [{\"marker\": {\"colorbar\": {\"outlinewidth\": 0, \"ticks\": \"\"}}, \"type\": \"scattergeo\"}], \"scattergl\": [{\"marker\": {\"colorbar\": {\"outlinewidth\": 0, \"ticks\": \"\"}}, \"type\": \"scattergl\"}], \"scattermapbox\": [{\"marker\": {\"colorbar\": {\"outlinewidth\": 0, \"ticks\": \"\"}}, \"type\": \"scattermapbox\"}], \"scatterpolar\": [{\"marker\": {\"colorbar\": {\"outlinewidth\": 0, \"ticks\": \"\"}}, \"type\": \"scatterpolar\"}], \"scatterpolargl\": [{\"marker\": {\"colorbar\": {\"outlinewidth\": 0, \"ticks\": \"\"}}, \"type\": \"scatterpolargl\"}], \"scatterternary\": [{\"marker\": {\"colorbar\": {\"outlinewidth\": 0, \"ticks\": \"\"}}, \"type\": \"scatterternary\"}], \"surface\": [{\"colorbar\": {\"outlinewidth\": 0, \"ticks\": \"\"}, \"colorscale\": [[0.0, \"#0d0887\"], [0.1111111111111111, \"#46039f\"], [0.2222222222222222, \"#7201a8\"], [0.3333333333333333, \"#9c179e\"], [0.4444444444444444, \"#bd3786\"], [0.5555555555555556, \"#d8576b\"], [0.6666666666666666, \"#ed7953\"], [0.7777777777777778, \"#fb9f3a\"], [0.8888888888888888, \"#fdca26\"], [1.0, \"#f0f921\"]], \"type\": \"surface\"}], \"table\": [{\"cells\": {\"fill\": {\"color\": \"#EBF0F8\"}, \"line\": {\"color\": \"white\"}}, \"header\": {\"fill\": {\"color\": \"#C8D4E3\"}, \"line\": {\"color\": \"white\"}}, \"type\": \"table\"}]}, \"layout\": {\"annotationdefaults\": {\"arrowcolor\": \"#2a3f5f\", \"arrowhead\": 0, \"arrowwidth\": 1}, \"coloraxis\": {\"colorbar\": {\"outlinewidth\": 0, \"ticks\": \"\"}}, \"colorscale\": {\"diverging\": [[0, \"#8e0152\"], [0.1, \"#c51b7d\"], [0.2, \"#de77ae\"], [0.3, \"#f1b6da\"], [0.4, \"#fde0ef\"], [0.5, \"#f7f7f7\"], [0.6, \"#e6f5d0\"], [0.7, \"#b8e186\"], [0.8, \"#7fbc41\"], [0.9, \"#4d9221\"], [1, \"#276419\"]], \"sequential\": [[0.0, \"#0d0887\"], [0.1111111111111111, \"#46039f\"], [0.2222222222222222, \"#7201a8\"], [0.3333333333333333, \"#9c179e\"], [0.4444444444444444, \"#bd3786\"], [0.5555555555555556, \"#d8576b\"], [0.6666666666666666, \"#ed7953\"], [0.7777777777777778, \"#fb9f3a\"], [0.8888888888888888, \"#fdca26\"], [1.0, \"#f0f921\"]], \"sequentialminus\": [[0.0, \"#0d0887\"], [0.1111111111111111, \"#46039f\"], [0.2222222222222222, \"#7201a8\"], [0.3333333333333333, \"#9c179e\"], [0.4444444444444444, \"#bd3786\"], [0.5555555555555556, \"#d8576b\"], [0.6666666666666666, \"#ed7953\"], [0.7777777777777778, \"#fb9f3a\"], [0.8888888888888888, \"#fdca26\"], [1.0, \"#f0f921\"]]}, \"colorway\": [\"#636efa\", \"#EF553B\", \"#00cc96\", \"#ab63fa\", \"#FFA15A\", \"#19d3f3\", \"#FF6692\", \"#B6E880\", \"#FF97FF\", \"#FECB52\"], \"font\": {\"color\": \"#2a3f5f\"}, \"geo\": {\"bgcolor\": \"white\", \"lakecolor\": \"white\", \"landcolor\": \"#E5ECF6\", \"showlakes\": true, \"showland\": true, \"subunitcolor\": \"white\"}, \"hoverlabel\": {\"align\": \"left\"}, \"hovermode\": \"closest\", \"mapbox\": {\"style\": \"light\"}, \"paper_bgcolor\": \"white\", \"plot_bgcolor\": \"#E5ECF6\", \"polar\": {\"angularaxis\": {\"gridcolor\": \"white\", \"linecolor\": \"white\", \"ticks\": \"\"}, \"bgcolor\": \"#E5ECF6\", \"radialaxis\": {\"gridcolor\": \"white\", \"linecolor\": \"white\", \"ticks\": \"\"}}, \"scene\": {\"xaxis\": {\"backgroundcolor\": \"#E5ECF6\", \"gridcolor\": \"white\", \"gridwidth\": 2, \"linecolor\": \"white\", \"showbackground\": true, \"ticks\": \"\", \"zerolinecolor\": \"white\"}, \"yaxis\": {\"backgroundcolor\": \"#E5ECF6\", \"gridcolor\": \"white\", \"gridwidth\": 2, \"linecolor\": \"white\", \"showbackground\": true, \"ticks\": \"\", \"zerolinecolor\": \"white\"}, \"zaxis\": {\"backgroundcolor\": \"#E5ECF6\", \"gridcolor\": \"white\", \"gridwidth\": 2, \"linecolor\": \"white\", \"showbackground\": true, \"ticks\": \"\", \"zerolinecolor\": \"white\"}}, \"shapedefaults\": {\"line\": {\"color\": \"#2a3f5f\"}}, \"ternary\": {\"aaxis\": {\"gridcolor\": \"white\", \"linecolor\": \"white\", \"ticks\": \"\"}, \"baxis\": {\"gridcolor\": \"white\", \"linecolor\": \"white\", \"ticks\": \"\"}, \"bgcolor\": \"#E5ECF6\", \"caxis\": {\"gridcolor\": \"white\", \"linecolor\": \"white\", \"ticks\": \"\"}}, \"title\": {\"x\": 0.05}, \"xaxis\": {\"automargin\": true, \"gridcolor\": \"white\", \"linecolor\": \"white\", \"ticks\": \"\", \"title\": {\"standoff\": 15}, \"zerolinecolor\": \"white\", \"zerolinewidth\": 2}, \"yaxis\": {\"automargin\": true, \"gridcolor\": \"white\", \"linecolor\": \"white\", \"ticks\": \"\", \"title\": {\"standoff\": 15}, \"zerolinecolor\": \"white\", \"zerolinewidth\": 2}}}, \"title\": {\"text\": \"Slice Plot\"}, \"xaxis\": {\"anchor\": \"y\", \"domain\": [0.0, 0.2888888888888889], \"title\": {\"text\": \"rf_estimators\"}}, \"xaxis2\": {\"anchor\": \"y2\", \"domain\": [0.35555555555555557, 0.6444444444444445], \"title\": {\"text\": \"rf_max_depth\"}}, \"xaxis3\": {\"anchor\": \"y3\", \"domain\": [0.7111111111111111, 1.0], \"title\": {\"text\": \"rf_max_features\"}}, \"yaxis\": {\"anchor\": \"x\", \"domain\": [0.0, 1.0], \"title\": {\"text\": \"Objective Value\"}}, \"yaxis2\": {\"anchor\": \"x2\", \"domain\": [0.0, 1.0], \"matches\": \"y\", \"showticklabels\": false}, \"yaxis3\": {\"anchor\": \"x3\", \"domain\": [0.0, 1.0], \"matches\": \"y\", \"showticklabels\": false}},\n",
              "                        {\"responsive\": true}\n",
              "                    ).then(function(){\n",
              "                            \n",
              "var gd = document.getElementById('4ef74330-6107-4383-b96b-690f0c872f92');\n",
              "var x = new MutationObserver(function (mutations, observer) {{\n",
              "        var display = window.getComputedStyle(gd).display;\n",
              "        if (!display || display === 'none') {{\n",
              "            console.log([gd, 'removed!']);\n",
              "            Plotly.purge(gd);\n",
              "            observer.disconnect();\n",
              "        }}\n",
              "}});\n",
              "\n",
              "// Listen for the removal of the full notebook cells\n",
              "var notebookContainer = gd.closest('#notebook-container');\n",
              "if (notebookContainer) {{\n",
              "    x.observe(notebookContainer, {childList: true});\n",
              "}}\n",
              "\n",
              "// Listen for the clearing of the current output cell\n",
              "var outputEl = gd.closest('.output');\n",
              "if (outputEl) {{\n",
              "    x.observe(outputEl, {childList: true});\n",
              "}}\n",
              "\n",
              "                        })\n",
              "                };\n",
              "                \n",
              "            </script>\n",
              "        </div>\n",
              "</body>\n",
              "</html>"
            ]
          },
          "metadata": {}
        }
      ]
    },
    {
      "cell_type": "code",
      "metadata": {
        "colab": {
          "base_uri": "https://localhost:8080/",
          "height": 542
        },
        "id": "5HZfONz4gW0z",
        "outputId": "27ab6a2f-781a-4a8b-b907-bd06c1dccae6"
      },
      "source": [
        "plot_param_importances(study)"
      ],
      "execution_count": null,
      "outputs": [
        {
          "output_type": "display_data",
          "data": {
            "text/html": [
              "<html>\n",
              "<head><meta charset=\"utf-8\" /></head>\n",
              "<body>\n",
              "    <div>\n",
              "            <script src=\"https://cdnjs.cloudflare.com/ajax/libs/mathjax/2.7.5/MathJax.js?config=TeX-AMS-MML_SVG\"></script><script type=\"text/javascript\">if (window.MathJax) {MathJax.Hub.Config({SVG: {font: \"STIX-Web\"}});}</script>\n",
              "                <script type=\"text/javascript\">window.PlotlyConfig = {MathJaxConfig: 'local'};</script>\n",
              "        <script src=\"https://cdn.plot.ly/plotly-latest.min.js\"></script>    \n",
              "            <div id=\"577c3a17-909c-435e-974a-9ecdec522e20\" class=\"plotly-graph-div\" style=\"height:525px; width:100%;\"></div>\n",
              "            <script type=\"text/javascript\">\n",
              "                \n",
              "                    window.PLOTLYENV=window.PLOTLYENV || {};\n",
              "                    \n",
              "                if (document.getElementById(\"577c3a17-909c-435e-974a-9ecdec522e20\")) {\n",
              "                    Plotly.newPlot(\n",
              "                        '577c3a17-909c-435e-974a-9ecdec522e20',\n",
              "                        [{\"cliponaxis\": false, \"hovertemplate\": [\"rf_max_features (IntLogUniformDistribution): 0.16537306091237863<extra></extra>\", \"rf_max_depth (IntLogUniformDistribution): 0.2600693165154732<extra></extra>\", \"rf_estimators (CategoricalDistribution): 0.574557622572148<extra></extra>\"], \"marker\": {\"color\": \"rgb(66,146,198)\"}, \"orientation\": \"h\", \"text\": [\"0.16537306091237863\", \"0.2600693165154732\", \"0.574557622572148\"], \"textposition\": \"outside\", \"texttemplate\": \"%{text:.2f}\", \"type\": \"bar\", \"x\": [0.16537306091237863, 0.2600693165154732, 0.574557622572148], \"y\": [\"rf_max_features\", \"rf_max_depth\", \"rf_estimators\"]}],\n",
              "                        {\"showlegend\": false, \"template\": {\"data\": {\"bar\": [{\"error_x\": {\"color\": \"#2a3f5f\"}, \"error_y\": {\"color\": \"#2a3f5f\"}, \"marker\": {\"line\": {\"color\": \"#E5ECF6\", \"width\": 0.5}}, \"type\": \"bar\"}], \"barpolar\": [{\"marker\": {\"line\": {\"color\": \"#E5ECF6\", \"width\": 0.5}}, \"type\": \"barpolar\"}], \"carpet\": [{\"aaxis\": {\"endlinecolor\": \"#2a3f5f\", \"gridcolor\": \"white\", \"linecolor\": \"white\", \"minorgridcolor\": \"white\", \"startlinecolor\": \"#2a3f5f\"}, \"baxis\": {\"endlinecolor\": \"#2a3f5f\", \"gridcolor\": \"white\", \"linecolor\": \"white\", \"minorgridcolor\": \"white\", \"startlinecolor\": \"#2a3f5f\"}, \"type\": \"carpet\"}], \"choropleth\": [{\"colorbar\": {\"outlinewidth\": 0, \"ticks\": \"\"}, \"type\": \"choropleth\"}], \"contour\": [{\"colorbar\": {\"outlinewidth\": 0, \"ticks\": \"\"}, \"colorscale\": [[0.0, \"#0d0887\"], [0.1111111111111111, \"#46039f\"], [0.2222222222222222, \"#7201a8\"], [0.3333333333333333, \"#9c179e\"], [0.4444444444444444, \"#bd3786\"], [0.5555555555555556, \"#d8576b\"], [0.6666666666666666, \"#ed7953\"], [0.7777777777777778, \"#fb9f3a\"], [0.8888888888888888, \"#fdca26\"], [1.0, \"#f0f921\"]], \"type\": \"contour\"}], \"contourcarpet\": [{\"colorbar\": {\"outlinewidth\": 0, \"ticks\": \"\"}, \"type\": \"contourcarpet\"}], \"heatmap\": [{\"colorbar\": {\"outlinewidth\": 0, \"ticks\": \"\"}, \"colorscale\": [[0.0, \"#0d0887\"], [0.1111111111111111, \"#46039f\"], [0.2222222222222222, \"#7201a8\"], [0.3333333333333333, \"#9c179e\"], [0.4444444444444444, \"#bd3786\"], [0.5555555555555556, \"#d8576b\"], [0.6666666666666666, \"#ed7953\"], [0.7777777777777778, \"#fb9f3a\"], [0.8888888888888888, \"#fdca26\"], [1.0, \"#f0f921\"]], \"type\": \"heatmap\"}], \"heatmapgl\": [{\"colorbar\": {\"outlinewidth\": 0, \"ticks\": \"\"}, \"colorscale\": [[0.0, \"#0d0887\"], [0.1111111111111111, \"#46039f\"], [0.2222222222222222, \"#7201a8\"], [0.3333333333333333, \"#9c179e\"], [0.4444444444444444, \"#bd3786\"], [0.5555555555555556, \"#d8576b\"], [0.6666666666666666, \"#ed7953\"], [0.7777777777777778, \"#fb9f3a\"], [0.8888888888888888, \"#fdca26\"], [1.0, \"#f0f921\"]], \"type\": \"heatmapgl\"}], \"histogram\": [{\"marker\": {\"colorbar\": {\"outlinewidth\": 0, \"ticks\": \"\"}}, \"type\": \"histogram\"}], \"histogram2d\": [{\"colorbar\": {\"outlinewidth\": 0, \"ticks\": \"\"}, \"colorscale\": [[0.0, \"#0d0887\"], [0.1111111111111111, \"#46039f\"], [0.2222222222222222, \"#7201a8\"], [0.3333333333333333, \"#9c179e\"], [0.4444444444444444, \"#bd3786\"], [0.5555555555555556, \"#d8576b\"], [0.6666666666666666, \"#ed7953\"], [0.7777777777777778, \"#fb9f3a\"], [0.8888888888888888, \"#fdca26\"], [1.0, \"#f0f921\"]], \"type\": \"histogram2d\"}], \"histogram2dcontour\": [{\"colorbar\": {\"outlinewidth\": 0, \"ticks\": \"\"}, \"colorscale\": [[0.0, \"#0d0887\"], [0.1111111111111111, \"#46039f\"], [0.2222222222222222, \"#7201a8\"], [0.3333333333333333, \"#9c179e\"], [0.4444444444444444, \"#bd3786\"], [0.5555555555555556, \"#d8576b\"], [0.6666666666666666, \"#ed7953\"], [0.7777777777777778, \"#fb9f3a\"], [0.8888888888888888, \"#fdca26\"], [1.0, \"#f0f921\"]], \"type\": \"histogram2dcontour\"}], \"mesh3d\": [{\"colorbar\": {\"outlinewidth\": 0, \"ticks\": \"\"}, \"type\": \"mesh3d\"}], \"parcoords\": [{\"line\": {\"colorbar\": {\"outlinewidth\": 0, \"ticks\": \"\"}}, \"type\": \"parcoords\"}], \"pie\": [{\"automargin\": true, \"type\": \"pie\"}], \"scatter\": [{\"marker\": {\"colorbar\": {\"outlinewidth\": 0, \"ticks\": \"\"}}, \"type\": \"scatter\"}], \"scatter3d\": [{\"line\": {\"colorbar\": {\"outlinewidth\": 0, \"ticks\": \"\"}}, \"marker\": {\"colorbar\": {\"outlinewidth\": 0, \"ticks\": \"\"}}, \"type\": \"scatter3d\"}], \"scattercarpet\": [{\"marker\": {\"colorbar\": {\"outlinewidth\": 0, \"ticks\": \"\"}}, \"type\": \"scattercarpet\"}], \"scattergeo\": [{\"marker\": {\"colorbar\": {\"outlinewidth\": 0, \"ticks\": \"\"}}, \"type\": \"scattergeo\"}], \"scattergl\": [{\"marker\": {\"colorbar\": {\"outlinewidth\": 0, \"ticks\": \"\"}}, \"type\": \"scattergl\"}], \"scattermapbox\": [{\"marker\": {\"colorbar\": {\"outlinewidth\": 0, \"ticks\": \"\"}}, \"type\": \"scattermapbox\"}], \"scatterpolar\": [{\"marker\": {\"colorbar\": {\"outlinewidth\": 0, \"ticks\": \"\"}}, \"type\": \"scatterpolar\"}], \"scatterpolargl\": [{\"marker\": {\"colorbar\": {\"outlinewidth\": 0, \"ticks\": \"\"}}, \"type\": \"scatterpolargl\"}], \"scatterternary\": [{\"marker\": {\"colorbar\": {\"outlinewidth\": 0, \"ticks\": \"\"}}, \"type\": \"scatterternary\"}], \"surface\": [{\"colorbar\": {\"outlinewidth\": 0, \"ticks\": \"\"}, \"colorscale\": [[0.0, \"#0d0887\"], [0.1111111111111111, \"#46039f\"], [0.2222222222222222, \"#7201a8\"], [0.3333333333333333, \"#9c179e\"], [0.4444444444444444, \"#bd3786\"], [0.5555555555555556, \"#d8576b\"], [0.6666666666666666, \"#ed7953\"], [0.7777777777777778, \"#fb9f3a\"], [0.8888888888888888, \"#fdca26\"], [1.0, \"#f0f921\"]], \"type\": \"surface\"}], \"table\": [{\"cells\": {\"fill\": {\"color\": \"#EBF0F8\"}, \"line\": {\"color\": \"white\"}}, \"header\": {\"fill\": {\"color\": \"#C8D4E3\"}, \"line\": {\"color\": \"white\"}}, \"type\": \"table\"}]}, \"layout\": {\"annotationdefaults\": {\"arrowcolor\": \"#2a3f5f\", \"arrowhead\": 0, \"arrowwidth\": 1}, \"coloraxis\": {\"colorbar\": {\"outlinewidth\": 0, \"ticks\": \"\"}}, \"colorscale\": {\"diverging\": [[0, \"#8e0152\"], [0.1, \"#c51b7d\"], [0.2, \"#de77ae\"], [0.3, \"#f1b6da\"], [0.4, \"#fde0ef\"], [0.5, \"#f7f7f7\"], [0.6, \"#e6f5d0\"], [0.7, \"#b8e186\"], [0.8, \"#7fbc41\"], [0.9, \"#4d9221\"], [1, \"#276419\"]], \"sequential\": [[0.0, \"#0d0887\"], [0.1111111111111111, \"#46039f\"], [0.2222222222222222, \"#7201a8\"], [0.3333333333333333, \"#9c179e\"], [0.4444444444444444, \"#bd3786\"], [0.5555555555555556, \"#d8576b\"], [0.6666666666666666, \"#ed7953\"], [0.7777777777777778, \"#fb9f3a\"], [0.8888888888888888, \"#fdca26\"], [1.0, \"#f0f921\"]], \"sequentialminus\": [[0.0, \"#0d0887\"], [0.1111111111111111, \"#46039f\"], [0.2222222222222222, \"#7201a8\"], [0.3333333333333333, \"#9c179e\"], [0.4444444444444444, \"#bd3786\"], [0.5555555555555556, \"#d8576b\"], [0.6666666666666666, \"#ed7953\"], [0.7777777777777778, \"#fb9f3a\"], [0.8888888888888888, \"#fdca26\"], [1.0, \"#f0f921\"]]}, \"colorway\": [\"#636efa\", \"#EF553B\", \"#00cc96\", \"#ab63fa\", \"#FFA15A\", \"#19d3f3\", \"#FF6692\", \"#B6E880\", \"#FF97FF\", \"#FECB52\"], \"font\": {\"color\": \"#2a3f5f\"}, \"geo\": {\"bgcolor\": \"white\", \"lakecolor\": \"white\", \"landcolor\": \"#E5ECF6\", \"showlakes\": true, \"showland\": true, \"subunitcolor\": \"white\"}, \"hoverlabel\": {\"align\": \"left\"}, \"hovermode\": \"closest\", \"mapbox\": {\"style\": \"light\"}, \"paper_bgcolor\": \"white\", \"plot_bgcolor\": \"#E5ECF6\", \"polar\": {\"angularaxis\": {\"gridcolor\": \"white\", \"linecolor\": \"white\", \"ticks\": \"\"}, \"bgcolor\": \"#E5ECF6\", \"radialaxis\": {\"gridcolor\": \"white\", \"linecolor\": \"white\", \"ticks\": \"\"}}, \"scene\": {\"xaxis\": {\"backgroundcolor\": \"#E5ECF6\", \"gridcolor\": \"white\", \"gridwidth\": 2, \"linecolor\": \"white\", \"showbackground\": true, \"ticks\": \"\", \"zerolinecolor\": \"white\"}, \"yaxis\": {\"backgroundcolor\": \"#E5ECF6\", \"gridcolor\": \"white\", \"gridwidth\": 2, \"linecolor\": \"white\", \"showbackground\": true, \"ticks\": \"\", \"zerolinecolor\": \"white\"}, \"zaxis\": {\"backgroundcolor\": \"#E5ECF6\", \"gridcolor\": \"white\", \"gridwidth\": 2, \"linecolor\": \"white\", \"showbackground\": true, \"ticks\": \"\", \"zerolinecolor\": \"white\"}}, \"shapedefaults\": {\"line\": {\"color\": \"#2a3f5f\"}}, \"ternary\": {\"aaxis\": {\"gridcolor\": \"white\", \"linecolor\": \"white\", \"ticks\": \"\"}, \"baxis\": {\"gridcolor\": \"white\", \"linecolor\": \"white\", \"ticks\": \"\"}, \"bgcolor\": \"#E5ECF6\", \"caxis\": {\"gridcolor\": \"white\", \"linecolor\": \"white\", \"ticks\": \"\"}}, \"title\": {\"x\": 0.05}, \"xaxis\": {\"automargin\": true, \"gridcolor\": \"white\", \"linecolor\": \"white\", \"ticks\": \"\", \"title\": {\"standoff\": 15}, \"zerolinecolor\": \"white\", \"zerolinewidth\": 2}, \"yaxis\": {\"automargin\": true, \"gridcolor\": \"white\", \"linecolor\": \"white\", \"ticks\": \"\", \"title\": {\"standoff\": 15}, \"zerolinecolor\": \"white\", \"zerolinewidth\": 2}}}, \"title\": {\"text\": \"Hyperparameter Importances\"}, \"xaxis\": {\"title\": {\"text\": \"Importance for Objective Value\"}}, \"yaxis\": {\"title\": {\"text\": \"Hyperparameter\"}}},\n",
              "                        {\"responsive\": true}\n",
              "                    ).then(function(){\n",
              "                            \n",
              "var gd = document.getElementById('577c3a17-909c-435e-974a-9ecdec522e20');\n",
              "var x = new MutationObserver(function (mutations, observer) {{\n",
              "        var display = window.getComputedStyle(gd).display;\n",
              "        if (!display || display === 'none') {{\n",
              "            console.log([gd, 'removed!']);\n",
              "            Plotly.purge(gd);\n",
              "            observer.disconnect();\n",
              "        }}\n",
              "}});\n",
              "\n",
              "// Listen for the removal of the full notebook cells\n",
              "var notebookContainer = gd.closest('#notebook-container');\n",
              "if (notebookContainer) {{\n",
              "    x.observe(notebookContainer, {childList: true});\n",
              "}}\n",
              "\n",
              "// Listen for the clearing of the current output cell\n",
              "var outputEl = gd.closest('.output');\n",
              "if (outputEl) {{\n",
              "    x.observe(outputEl, {childList: true});\n",
              "}}\n",
              "\n",
              "                        })\n",
              "                };\n",
              "                \n",
              "            </script>\n",
              "        </div>\n",
              "</body>\n",
              "</html>"
            ]
          },
          "metadata": {}
        }
      ]
    },
    {
      "cell_type": "markdown",
      "metadata": {
        "id": "9oG6-hnl0V-s"
      },
      "source": [
        "Optuna is very vast optimization software framework for hyperparameter optimization along with various applications in Machine Learning and Non-Machine Learnig Task . \n",
        "Here we just tried to demo simple example of hyperparameter optimization with optuna for random forest classifier's hyperparameters. "
      ]
    },
    {
      "cell_type": "code",
      "metadata": {
        "id": "fGqS3m0j1UfF"
      },
      "source": [
        ""
      ],
      "execution_count": null,
      "outputs": []
    }
  ]
}